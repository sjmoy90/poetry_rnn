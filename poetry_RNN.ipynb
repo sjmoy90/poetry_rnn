{
 "cells": [
  {
   "cell_type": "code",
   "execution_count": 1,
   "metadata": {},
   "outputs": [],
   "source": [
    "# Set up IPython to show all outputs from a cell\n",
    "import warnings\n",
    "from IPython.core.interactiveshell import InteractiveShell\n",
    "\n",
    "InteractiveShell.ast_node_interactivity = 'all'\n",
    "\n",
    "warnings.filterwarnings('ignore', category=RuntimeWarning)\n",
    "\n",
    "RANDOM_STATE = 50\n",
    "EPOCHS = 25\n",
    "BATCH_SIZE = 2048\n",
    "TRAINING_LENGTH = 25\n",
    "TRAIN_FRACTION = 0.7\n",
    "LSTM_CELLS = 64\n",
    "VERBOSE = 0\n",
    "SAVE_MODEL = True"
   ]
  },
  {
   "cell_type": "code",
   "execution_count": 2,
   "metadata": {},
   "outputs": [
    {
     "name": "stdout",
     "output_type": "stream",
     "text": [
      "[name: \"/device:CPU:0\"\n",
      "device_type: \"CPU\"\n",
      "memory_limit: 268435456\n",
      "locality {\n",
      "}\n",
      "incarnation: 16814990661056227338\n",
      "]\n"
     ]
    }
   ],
   "source": [
    "from tensorflow.python.client import device_lib\n",
    "print(device_lib.list_local_devices())"
   ]
  },
  {
   "cell_type": "code",
   "execution_count": 3,
   "metadata": {},
   "outputs": [
    {
     "data": {
      "text/plain": [
       "42974"
      ]
     },
     "execution_count": 3,
     "metadata": {},
     "output_type": "execute_result"
    },
    {
     "data": {
      "text/html": [
       "<div>\n",
       "<style scoped>\n",
       "    .dataframe tbody tr th:only-of-type {\n",
       "        vertical-align: middle;\n",
       "    }\n",
       "\n",
       "    .dataframe tbody tr th {\n",
       "        vertical-align: top;\n",
       "    }\n",
       "\n",
       "    .dataframe thead th {\n",
       "        text-align: right;\n",
       "    }\n",
       "</style>\n",
       "<table border=\"1\" class=\"dataframe\">\n",
       "  <thead>\n",
       "    <tr style=\"text-align: right;\">\n",
       "      <th></th>\n",
       "      <th>volume</th>\n",
       "      <th>title</th>\n",
       "      <th>author</th>\n",
       "      <th>body</th>\n",
       "    </tr>\n",
       "  </thead>\n",
       "  <tbody>\n",
       "    <tr>\n",
       "      <th>0</th>\n",
       "      <td>1_1</td>\n",
       "      <td>帝京篇十首</td>\n",
       "      <td>李世民</td>\n",
       "      <td>秦川雄帝宅，函谷壮皇居。绮殿千寻起，离宫百雉馀。连薨遥接汉，飞观迥凌虚。云日隐层阙，风烟出绮...</td>\n",
       "    </tr>\n",
       "    <tr>\n",
       "      <th>1</th>\n",
       "      <td>1_2</td>\n",
       "      <td>饮马长城窟行</td>\n",
       "      <td>李世民</td>\n",
       "      <td>塞外悲风切，交河冰已结。瀚海百重波，阴山千里雪。迥戍危烽火，层峦引高节。悠悠卷旆旌，饮马出长...</td>\n",
       "    </tr>\n",
       "    <tr>\n",
       "      <th>2</th>\n",
       "      <td>1_3</td>\n",
       "      <td>执契静三边</td>\n",
       "      <td>李世民</td>\n",
       "      <td>执契静三边，持衡临万姓。玉彩辉关烛，金华流日镜。无为宇宙清，有美璇玑正。皎佩星连景，飘衣云结...</td>\n",
       "    </tr>\n",
       "    <tr>\n",
       "      <th>3</th>\n",
       "      <td>1_4</td>\n",
       "      <td>正日临朝</td>\n",
       "      <td>李世民</td>\n",
       "      <td>条风开献节，灰律动初阳。百蛮奉遐赆，万国朝未央。虽无舜禹迹，幸欣天地康。车轨同八表，书文混四...</td>\n",
       "    </tr>\n",
       "    <tr>\n",
       "      <th>4</th>\n",
       "      <td>1_5</td>\n",
       "      <td>幸武功庆善宫</td>\n",
       "      <td>李世民</td>\n",
       "      <td>寿丘惟旧迹，酆邑乃前基。粤予承累圣，悬弧亦在兹。弱龄逢运改，提剑郁匡时。指麾八荒定，怀柔万国...</td>\n",
       "    </tr>\n",
       "  </tbody>\n",
       "</table>\n",
       "</div>"
      ],
      "text/plain": [
       "  volume   title author                                               body\n",
       "0    1_1   帝京篇十首    李世民  秦川雄帝宅，函谷壮皇居。绮殿千寻起，离宫百雉馀。连薨遥接汉，飞观迥凌虚。云日隐层阙，风烟出绮...\n",
       "1    1_2  饮马长城窟行    李世民  塞外悲风切，交河冰已结。瀚海百重波，阴山千里雪。迥戍危烽火，层峦引高节。悠悠卷旆旌，饮马出长...\n",
       "2    1_3   执契静三边    李世民  执契静三边，持衡临万姓。玉彩辉关烛，金华流日镜。无为宇宙清，有美璇玑正。皎佩星连景，飘衣云结...\n",
       "3    1_4    正日临朝    李世民  条风开献节，灰律动初阳。百蛮奉遐赆，万国朝未央。虽无舜禹迹，幸欣天地康。车轨同八表，书文混四...\n",
       "4    1_5  幸武功庆善宫    李世民  寿丘惟旧迹，酆邑乃前基。粤予承累圣，悬弧亦在兹。弱龄逢运改，提剑郁匡时。指麾八荒定，怀柔万国..."
      ]
     },
     "execution_count": 3,
     "metadata": {},
     "output_type": "execute_result"
    }
   ],
   "source": [
    "import pandas as pd\n",
    "import numpy as np\n",
    "\n",
    "# Read in data\n",
    "data = pd.read_table('./qts_tab.txt', sep='\\t', lineterminator='\\n')\n",
    "\n",
    "# Extract poems\n",
    "original_poems = list(data['body'])\n",
    "len(original_poems)\n",
    "\n",
    "data.head()"
   ]
  },
  {
   "cell_type": "code",
   "execution_count": 4,
   "metadata": {},
   "outputs": [
    {
     "data": {
      "text/plain": [
       "'润色鸿业寄贤才，叨居右弼愧盐梅。运筹帷幄荷时来，职掌图籍滥蓬莱。两司谬忝谢钟裴，礼乐铨管效涓埃。陈师振旅清九垓，欣承顾问侍天杯。衔恩献寿柏梁台，黄缣青简奉康哉。鲰生侍从忝王枚，右掖司言实不才。宗伯秩礼天地开，帝歌难续仰昭回。微臣捧日变寒灰，远惭班左愧游陪。'"
      ]
     },
     "execution_count": 4,
     "metadata": {},
     "output_type": "execute_result"
    }
   ],
   "source": [
    "data['body'][100]"
   ]
  },
  {
   "cell_type": "code",
   "execution_count": 5,
   "metadata": {
    "scrolled": true
   },
   "outputs": [
    {
     "name": "stderr",
     "output_type": "stream",
     "text": [
      "Building prefix dict from the default dictionary ...\n",
      "Loading model from cache /var/folders/m6/d8g6tpv97wq9ls9jbhwc3n3w0000gn/T/jieba.cache\n",
      "Loading model cost 0.675 seconds.\n",
      "Prefix dict has been built successfully.\n"
     ]
    },
    {
     "data": {
      "text/plain": [
       "['润色',\n",
       " '鸿业',\n",
       " '寄',\n",
       " '贤才',\n",
       " '，',\n",
       " '叨居',\n",
       " '右弼愧',\n",
       " '盐梅',\n",
       " '。',\n",
       " '运筹帷幄',\n",
       " '荷时',\n",
       " '来',\n",
       " '，',\n",
       " '职掌',\n",
       " '图籍',\n",
       " '滥',\n",
       " '蓬莱',\n",
       " '。',\n",
       " '两司',\n",
       " '谬',\n",
       " '忝',\n",
       " '谢钟',\n",
       " '裴',\n",
       " '，',\n",
       " '礼乐',\n",
       " '铨',\n",
       " '管效',\n",
       " '涓埃',\n",
       " '。',\n",
       " '陈师振',\n",
       " '旅清',\n",
       " '九',\n",
       " '垓',\n",
       " '，',\n",
       " '欣承',\n",
       " '顾问',\n",
       " '侍天杯',\n",
       " '。',\n",
       " '衔恩献寿',\n",
       " '柏梁台',\n",
       " '，',\n",
       " '黄',\n",
       " '缣',\n",
       " '青',\n",
       " '简奉康',\n",
       " '哉',\n",
       " '。',\n",
       " '鲰',\n",
       " '生',\n",
       " '侍从',\n",
       " '忝',\n",
       " '王枚',\n",
       " '，',\n",
       " '右掖司',\n",
       " '言实',\n",
       " '不才',\n",
       " '。',\n",
       " '宗伯',\n",
       " '秩礼',\n",
       " '天地',\n",
       " '开',\n",
       " '，',\n",
       " '帝歌',\n",
       " '难续',\n",
       " '仰昭回',\n",
       " '。',\n",
       " '微臣',\n",
       " '捧',\n",
       " '日',\n",
       " '变寒',\n",
       " '灰',\n",
       " '，',\n",
       " '远惭班',\n",
       " '左愧游',\n",
       " '陪',\n",
       " '。']"
      ]
     },
     "execution_count": 5,
     "metadata": {},
     "output_type": "execute_result"
    }
   ],
   "source": [
    "import jieba\n",
    "jieba.lcut(data['body'][100])\n",
    "#mod_poems = [\" \".join(jieba.lcut(data['body'][i])) for i in range(len(data))]"
   ]
  },
  {
   "cell_type": "code",
   "execution_count": 6,
   "metadata": {
    "scrolled": true
   },
   "outputs": [
    {
     "data": {
      "text/plain": [
       "'润色鸿业寄贤才，叨居右弼愧盐梅。运筹帷幄荷时来，职掌图籍滥蓬莱。两司谬忝谢钟裴，礼乐铨管效涓埃。陈师振旅清九垓，欣承顾问侍天杯。衔恩献寿柏梁台，黄缣青简奉康哉。鲰生侍从忝王枚，右掖司言实不才。宗伯秩礼天地开，帝歌难续仰昭回。微臣捧日变寒灰，远惭班左愧游陪。'"
      ]
     },
     "execution_count": 6,
     "metadata": {},
     "output_type": "execute_result"
    }
   ],
   "source": [
    "original_poems[100]"
   ]
  },
  {
   "cell_type": "code",
   "execution_count": 7,
   "metadata": {},
   "outputs": [],
   "source": [
    "#import jieba\n",
    "#sentence = u'即使在最黑暗的日子，幸福也是有迹可循的，只要你记得为自己点亮一盏灯。'\n",
    "#words = jieba.lcut(sentence)\n",
    "\n",
    "## Build the vocabulary with word embeddings\n",
    "#url = 'https://dl.fbaipublicfiles.com/fasttext/vectors-wiki/wiki.zh_classical.vec'\n",
    "#TEXT.vocab.load_vectors(vectors=Vectors('wiki.zh_classical.vec', url=url))\n",
    "\n",
    "#print(\"Word embeddings size \", TEXT.vocab.vectors.size())\n",
    "##print(\"Word embedding of 'follows', first 10 dim \", TEXT.vocab.vectors[TEXT.vocab.stoi['follows']][:10])"
   ]
  },
  {
   "cell_type": "code",
   "execution_count": 8,
   "metadata": {},
   "outputs": [
    {
     "ename": "NameError",
     "evalue": "name 'example0' is not defined",
     "output_type": "error",
     "traceback": [
      "\u001b[0;31m---------------------------------------------------------------------------\u001b[0m",
      "\u001b[0;31mNameError\u001b[0m                                 Traceback (most recent call last)",
      "\u001b[0;32m<ipython-input-8-731f21c93a9f>\u001b[0m in \u001b[0;36m<module>\u001b[0;34m\u001b[0m\n\u001b[1;32m      1\u001b[0m \u001b[0;32mimport\u001b[0m \u001b[0mmatplotlib\u001b[0m\u001b[0;34m.\u001b[0m\u001b[0mpyplot\u001b[0m \u001b[0;32mas\u001b[0m \u001b[0mplt\u001b[0m\u001b[0;34m\u001b[0m\u001b[0;34m\u001b[0m\u001b[0m\n\u001b[1;32m      2\u001b[0m \u001b[0mget_ipython\u001b[0m\u001b[0;34m(\u001b[0m\u001b[0;34m)\u001b[0m\u001b[0;34m.\u001b[0m\u001b[0mrun_line_magic\u001b[0m\u001b[0;34m(\u001b[0m\u001b[0;34m'matplotlib'\u001b[0m\u001b[0;34m,\u001b[0m \u001b[0;34m'inline'\u001b[0m\u001b[0;34m)\u001b[0m\u001b[0;34m\u001b[0m\u001b[0;34m\u001b[0m\u001b[0m\n\u001b[0;32m----> 3\u001b[0;31m \u001b[0;34m\" \"\u001b[0m\u001b[0;34m.\u001b[0m\u001b[0mjoin\u001b[0m\u001b[0;34m(\u001b[0m\u001b[0mjieba\u001b[0m\u001b[0;34m.\u001b[0m\u001b[0mlcut\u001b[0m\u001b[0;34m(\u001b[0m\u001b[0mexample0\u001b[0m\u001b[0;34m,\u001b[0m \u001b[0mcut_all\u001b[0m\u001b[0;34m=\u001b[0m\u001b[0;32mFalse\u001b[0m\u001b[0;34m)\u001b[0m\u001b[0;34m)\u001b[0m\u001b[0;34m\u001b[0m\u001b[0;34m\u001b[0m\u001b[0m\n\u001b[0m\u001b[1;32m      4\u001b[0m \u001b[0;31m#len(jieba.lcut(example0, cut_all=False))\u001b[0m\u001b[0;34m\u001b[0m\u001b[0;34m\u001b[0m\u001b[0;34m\u001b[0m\u001b[0m\n\u001b[1;32m      5\u001b[0m \u001b[0;31m#len(jieba.lcut(example0, cut_all=True))\u001b[0m\u001b[0;34m\u001b[0m\u001b[0;34m\u001b[0m\u001b[0;34m\u001b[0m\u001b[0m\n",
      "\u001b[0;31mNameError\u001b[0m: name 'example0' is not defined"
     ]
    }
   ],
   "source": [
    "import matplotlib.pyplot as plt\n",
    "%matplotlib inline\n",
    "\" \".join(jieba.lcut(example0, cut_all=False))\n",
    "#len(jieba.lcut(example0, cut_all=False))\n",
    "#len(jieba.lcut(example0, cut_all=True))"
   ]
  },
  {
   "cell_type": "code",
   "execution_count": 9,
   "metadata": {},
   "outputs": [
    {
     "name": "stderr",
     "output_type": "stream",
     "text": [
      "Using TensorFlow backend.\n"
     ]
    },
    {
     "data": {
      "text/plain": [
       "'润色 鸿业 寄 贤才 叨 居 右 弼 愧 盐 梅 运筹 运筹帷幄 帷幄 荷 时 来 职掌 图籍 滥 蓬莱 两 司 谬 忝 谢 钟 裴 礼乐 铨 管 效 涓埃 陈 师 振 旅 清 九 垓 欣 承 顾问 侍 天 杯 衔 恩 献 寿 柏梁台 黄 缣 青 简 奉 康 哉 鲰 生 侍从 忝 王 枚 右 掖 司 言实 不 才 宗 伯 秩 礼 天地 开 帝 歌 难 续 仰 昭 回 微臣 捧 日 变 寒 灰 远 惭 班 左 愧 游 陪'"
      ]
     },
     "execution_count": 9,
     "metadata": {},
     "output_type": "execute_result"
    }
   ],
   "source": [
    "from keras.preprocessing.text import Tokenizer\n",
    "\n",
    "#example = 'This is a short sentence (1) with one reference to an image. This next sentence, while non-sensical, does not have an image and has two commas.'\n",
    "example0 = '润色鸿业寄贤才，叨居右弼愧盐梅。运筹帷幄荷时来，职掌图籍滥蓬莱。两司谬忝谢钟裴，礼乐铨管效涓埃。陈师振旅清九垓，欣承顾问侍天杯。衔恩献寿柏梁台，黄缣青简奉康哉。鲰生侍从忝王枚，右掖司言实不才。宗伯秩礼天地开，帝歌难续仰昭回。微臣捧日变寒灰，远惭班左愧游陪。'\n",
    "example = ' '.join(jieba.lcut(example0, cut_all=True))\n",
    "tokenizer = Tokenizer(filters='!\"#$%&()*+,-./:;<=>?@[\\\\]^_`{|}~\\t\\n。，')\n",
    "tokenizer.fit_on_texts([example])\n",
    "s = tokenizer.texts_to_sequences([example])[0]\n",
    "' '.join(tokenizer.index_word[i] for i in s)"
   ]
  },
  {
   "cell_type": "code",
   "execution_count": 10,
   "metadata": {},
   "outputs": [
    {
     "data": {
      "text/plain": [
       "'润色 鸿业 寄 贤才 ， 叨 居 右 弼 愧 盐 梅 。 运筹 运筹帷幄 帷幄 荷 时 来 ， 职掌 图籍 滥 蓬莱 。 两 司 谬 忝 谢 钟 裴 ， 礼乐 铨 管 效 涓埃 。 陈 师 振 旅 清 九 垓 ， 欣 承 顾问 侍 天 杯 。 衔 恩 献 寿 柏梁台 ， 黄 缣 青 简 奉 康 哉 。 鲰 生 侍从 忝 王 枚 ， 右 掖 司 言实 不 才 。 宗 伯 秩 礼 天地 开 ， 帝 歌 难 续 仰 昭 回 。 微臣 捧 日 变 寒 灰 ， 远 惭 班 左 愧 游 陪 。'"
      ]
     },
     "execution_count": 10,
     "metadata": {},
     "output_type": "execute_result"
    },
    {
     "data": {
      "text/plain": [
       "dict_keys(['，', '。', '右', '愧', '司', '忝', '润色', '鸿业', '寄', '贤才', '叨', '居', '弼', '盐', '梅', '运筹', '运筹帷幄', '帷幄', '荷', '时', '来', '职掌', '图籍', '滥', '蓬莱', '两', '谬', '谢', '钟', '裴', '礼乐', '铨', '管', '效', '涓埃', '陈', '师', '振', '旅', '清', '九', '垓', '欣', '承', '顾问', '侍', '天', '杯', '衔', '恩', '献', '寿', '柏梁台', '黄', '缣', '青', '简', '奉', '康', '哉', '鲰', '生', '侍从', '王', '枚', '掖', '言实', '不', '才', '宗', '伯', '秩', '礼', '天地', '开', '帝', '歌', '难', '续', '仰', '昭', '回', '微臣', '捧', '日', '变', '寒', '灰', '远', '惭', '班', '左', '游', '陪'])"
      ]
     },
     "execution_count": 10,
     "metadata": {},
     "output_type": "execute_result"
    }
   ],
   "source": [
    "tokenizer = Tokenizer(filters='\"#$%&*+/:;<=>?@[\\\\]^_`{|}~\\t\\n')\n",
    "tokenizer.fit_on_texts([example])\n",
    "s = tokenizer.texts_to_sequences([example])[0]\n",
    "' '.join(tokenizer.index_word[i] for i in s)\n",
    "tokenizer.word_index.keys()"
   ]
  },
  {
   "cell_type": "code",
   "execution_count": 11,
   "metadata": {},
   "outputs": [
    {
     "data": {
      "text/plain": [
       "'润色 鸿业 寄 贤才 ， 叨 居 右 弼 愧 盐 梅 。 运筹 运筹帷幄 帷幄 荷 时 来 ， 职掌 图籍 滥 蓬莱 。 两 司 谬 忝 谢 钟 裴 ， 礼乐 铨 管 效 涓埃 。 陈 师 振 旅 清 九 垓 ， 欣 承 顾问 侍 天 杯 。 衔 恩 献 寿 柏梁台 ， 黄 缣 青 简 奉 康 哉 。 鲰 生 侍从 忝 王 枚 ， 右 掖 司 言实 不 才 。 宗 伯 秩 礼 天地 开 ， 帝 歌 难 续 仰 昭 回 。 微臣 捧 日 变 寒 灰 ， 远 惭 班 左 愧 游 陪 。'"
      ]
     },
     "execution_count": 11,
     "metadata": {},
     "output_type": "execute_result"
    }
   ],
   "source": [
    "import re\n",
    "\n",
    "\n",
    "def format_poem(poem):\n",
    "    \"\"\"Add spaces around punctuation and remove references to images/citations.\"\"\"\n",
    "    \n",
    "    # Pre-process using jieba\n",
    "    poem = ' '.join(jieba.lcut(poem, cut_all=True))\n",
    "    \n",
    "    # Add spaces around punctuation\n",
    "    poem = re.sub(r'(?<=[^\\s0-9])(?=[.,。，;?])', r' ', poem)\n",
    "\n",
    "    # Remove references to figures\n",
    "    poem = re.sub(r'\\((\\d+)\\)', r'', poem)\n",
    "\n",
    "    # Remove double spaces\n",
    "    poem = re.sub(r'\\s\\s', ' ', poem)\n",
    "    return poem\n",
    "\n",
    "\n",
    "f = format_poem(example0)\n",
    "f"
   ]
  },
  {
   "cell_type": "code",
   "execution_count": 12,
   "metadata": {},
   "outputs": [
    {
     "data": {
      "text/plain": [
       "'润色 鸿业 寄 贤才 ， 叨 居 右 弼 愧 盐 梅 。 运筹 运筹帷幄 帷幄 荷 时 来 ， 职掌 图籍 滥 蓬莱 。 两 司 谬 忝 谢 钟 裴 ， 礼乐 铨 管 效 涓埃 。 陈 师 振 旅 清 九 垓 ， 欣 承 顾问 侍 天 杯 。 衔 恩 献 寿 柏梁台 ， 黄 缣 青 简 奉 康 哉 。 鲰 生 侍从 忝 王 枚 ， 右 掖 司 言实 不 才 。 宗 伯 秩 礼 天地 开 ， 帝 歌 难 续 仰 昭 回 。 微臣 捧 日 变 寒 灰 ， 远 惭 班 左 愧 游 陪 。'"
      ]
     },
     "execution_count": 12,
     "metadata": {},
     "output_type": "execute_result"
    },
    {
     "data": {
      "text/plain": [
       "dict_keys(['，', '。', '右', '愧', '司', '忝', '润色', '鸿业', '寄', '贤才', '叨', '居', '弼', '盐', '梅', '运筹', '运筹帷幄', '帷幄', '荷', '时', '来', '职掌', '图籍', '滥', '蓬莱', '两', '谬', '谢', '钟', '裴', '礼乐', '铨', '管', '效', '涓埃', '陈', '师', '振', '旅', '清', '九', '垓', '欣', '承', '顾问', '侍', '天', '杯', '衔', '恩', '献', '寿', '柏梁台', '黄', '缣', '青', '简', '奉', '康', '哉', '鲰', '生', '侍从', '王', '枚', '掖', '言实', '不', '才', '宗', '伯', '秩', '礼', '天地', '开', '帝', '歌', '难', '续', '仰', '昭', '回', '微臣', '捧', '日', '变', '寒', '灰', '远', '惭', '班', '左', '游', '陪'])"
      ]
     },
     "execution_count": 12,
     "metadata": {},
     "output_type": "execute_result"
    }
   ],
   "source": [
    "tokenizer = Tokenizer(filters='\"#$%&*+/:;<=>?@[\\\\]^_`{|}~\\t\\n')\n",
    "tokenizer.fit_on_texts([f])\n",
    "s = tokenizer.texts_to_sequences([f])[0]\n",
    "' '.join(tokenizer.index_word[i] for i in s)\n",
    "tokenizer.word_index.keys()"
   ]
  },
  {
   "cell_type": "code",
   "execution_count": 13,
   "metadata": {},
   "outputs": [
    {
     "data": {
      "text/plain": [
       "'润色 鸿业 寄 贤才， 叨 居 右 弼 愧 盐 梅。 运筹 运筹帷幄 帷幄 荷 时 来， 职掌 图籍 滥 蓬莱。 两 司 谬 忝 谢 钟 裴， 礼乐 铨 管 效 涓埃。 陈 师 振 旅 清 九 垓， 欣 承 顾问 侍 天 杯。 衔 恩 献 寿 柏梁台， 黄 缣 青 简 奉 康 哉。 鲰 生 侍从 忝 王 枚， 右 掖 司 言实 不 才。 宗 伯 秩 礼 天地 开， 帝 歌 难 续 仰 昭 回。 微臣 捧 日 变 寒 灰， 远 惭 班 左 愧 游 陪。'"
      ]
     },
     "execution_count": 13,
     "metadata": {},
     "output_type": "execute_result"
    }
   ],
   "source": [
    "def remove_spaces(poem):\n",
    "    \"\"\"Remove spaces around punctuation\"\"\"\n",
    "    poem = re.sub(r'\\s+([.,。，;?])', r'\\1', poem)\n",
    "\n",
    "    return poem\n",
    "\n",
    "\n",
    "remove_spaces(' '.join(tokenizer.index_word[i] for i in s))"
   ]
  },
  {
   "cell_type": "code",
   "execution_count": 14,
   "metadata": {},
   "outputs": [
    {
     "data": {
      "text/plain": [
       "42974"
      ]
     },
     "execution_count": 14,
     "metadata": {},
     "output_type": "execute_result"
    }
   ],
   "source": [
    "formatted = []\n",
    "\n",
    "# Iterate through all the original poems\n",
    "for a in original_poems:\n",
    "    formatted.append(format_poem(a))\n",
    "\n",
    "len(formatted)"
   ]
  },
  {
   "cell_type": "code",
   "execution_count": 15,
   "metadata": {},
   "outputs": [],
   "source": [
    "def make_sequences(texts,\n",
    "                   training_length=25,\n",
    "                   lower=True,\n",
    "                   filters='!\"#$%&()*+,-.，。/:;<=>?@[\\\\]^_`{|}~\\t\\n'):\n",
    "    \"\"\"Turn a set of texts into sequences of integers\"\"\"\n",
    "\n",
    "    # Create the tokenizer object and train on texts\n",
    "    tokenizer = Tokenizer(lower=lower, filters=filters)\n",
    "    tokenizer.fit_on_texts(texts)\n",
    "\n",
    "    # Create look-up dictionaries and reverse look-ups\n",
    "    word_idx = tokenizer.word_index\n",
    "    idx_word = tokenizer.index_word\n",
    "    num_words = len(word_idx) + 1\n",
    "    word_counts = tokenizer.word_counts\n",
    "\n",
    "    print(f'There are {num_words} unique words.')\n",
    "\n",
    "    # Convert text to sequences of integers\n",
    "    sequences = tokenizer.texts_to_sequences(texts)\n",
    "\n",
    "    # Limit to sequences with more than training length tokens\n",
    "    seq_lengths = [len(x) for x in sequences]\n",
    "    over_idx = [\n",
    "        i for i, l in enumerate(seq_lengths) if l > (training_length + 20)\n",
    "    ]\n",
    "\n",
    "    new_texts = []\n",
    "    new_sequences = []\n",
    "\n",
    "    # Only keep sequences with more than training length tokens\n",
    "    for i in over_idx:\n",
    "        new_texts.append(texts[i])\n",
    "        new_sequences.append(sequences[i])\n",
    "\n",
    "    training_seq = []\n",
    "    labels = []\n",
    "\n",
    "    # Iterate through the sequences of tokens\n",
    "    for seq in new_sequences:\n",
    "\n",
    "        # Create multiple training examples from each sequence\n",
    "        for i in range(training_length, len(seq)):\n",
    "            # Extract the features and label\n",
    "            extract = seq[i - training_length:i + 1]\n",
    "\n",
    "            # Set the features and label\n",
    "            training_seq.append(extract[:-1])\n",
    "            labels.append(extract[-1])\n",
    "\n",
    "    print(f'There are {len(training_seq)} training sequences.')\n",
    "\n",
    "    # Return everything needed for setting up the model\n",
    "    return word_idx, idx_word, num_words, word_counts, new_texts, new_sequences, training_seq, labels"
   ]
  },
  {
   "cell_type": "code",
   "execution_count": 16,
   "metadata": {},
   "outputs": [
    {
     "name": "stdout",
     "output_type": "stream",
     "text": [
      "There are 50142 unique words.\n",
      "There are 1301887 training sequences.\n"
     ]
    }
   ],
   "source": [
    "TRAINING_LENGTH = 25\n",
    "filters = '!\"#$%&()*+/:<=>@[\\\\]^_`{|}~\\t\\n'\n",
    "word_idx, idx_word, num_words, word_counts, abstracts, sequences, features, labels = make_sequences(\n",
    "    formatted, TRAINING_LENGTH, lower=True, filters=filters)"
   ]
  },
  {
   "cell_type": "code",
   "execution_count": 17,
   "metadata": {},
   "outputs": [
    {
     "data": {
      "text/plain": [
       "[798, 1, 1827, 545, 1231, 478, 324, 2, 803, 392]"
      ]
     },
     "execution_count": 17,
     "metadata": {},
     "output_type": "execute_result"
    }
   ],
   "source": [
    "n = 3\n",
    "features[n][:10]"
   ]
  },
  {
   "cell_type": "code",
   "execution_count": 18,
   "metadata": {},
   "outputs": [],
   "source": [
    "def find_answer(index):\n",
    "    \"\"\"Find label corresponding to features for index in training data\"\"\"\n",
    "\n",
    "    # Find features and label\n",
    "    feats = ' '.join(idx_word[i] for i in features[index])\n",
    "    answer = idx_word[labels[index]]\n",
    "\n",
    "    print('Features:', feats)\n",
    "    print('\\nLabel: ', answer)"
   ]
  },
  {
   "cell_type": "code",
   "execution_count": 19,
   "metadata": {},
   "outputs": [
    {
     "name": "stdout",
     "output_type": "stream",
     "text": [
      "Features: 宅 ， 函 谷 壮 皇 居 。 绮 殿 千 寻 起 ， 离宫 百 雉 馀 。 连 薨 遥 接 汉 ，\n",
      "\n",
      "Label:  飞\n"
     ]
    }
   ],
   "source": [
    "find_answer(n)"
   ]
  },
  {
   "cell_type": "code",
   "execution_count": 20,
   "metadata": {},
   "outputs": [
    {
     "data": {
      "text/plain": [
       "'秦川雄帝宅，函谷壮皇居。绮殿千寻起，离宫百雉馀。连薨遥接汉，飞观迥凌虚。云日隐层阙，风烟出绮疏。岩廊罢机务，崇文聊驻辇。玉匣启龙图，金绳披凤篆。韦编断仍续，缥帙舒还卷。对此乃淹留，欹案观坟典。移步出词林，停舆欣武宴。雕弓写明月，骏马疑流电。惊雁落虚弦，啼猿悲急箭。阅赏诚多美，于兹乃忘倦。鸣笳临乐馆，眺听欢芳节。急管韵朱弦，清歌凝白雪。彩凤肃来仪，玄鹤纷成列。去兹郑卫声，雅音方可悦。芳辰追逸趣，禁苑信多奇。桥形通汉上，峰势接云危。烟霞交隐映，花鸟自参差。何如肆辙迹，万里赏瑶池。飞盖去芳园，兰桡游翠渚。萍间日彩乱，荷处香风举。桂楫满中川，弦歌振长屿。岂必汾河曲，方为欢宴所。落日双阙昏，回舆九重暮。长烟散初碧，皎月澄轻素。搴幌玩琴书，开轩引云雾。斜汉耿层阁，清风摇玉树。欢乐难再逢，芳辰良可惜。玉酒泛云罍，兰殽陈绮席。千钟合尧禹，百兽谐金石。得志重寸阴，忘怀轻尺璧。建章欢赏夕，二八尽妖妍。罗绮昭阳殿，芬芳玳瑁筵。佩移星正动，扇掩月初圆。无劳上悬圃，即此对神仙。以兹游观极，悠然独长想。披卷览前踪，抚躬寻既往。望古茅茨约，瞻今兰殿广。人道恶高危，虚心戒盈荡。奉天竭诚敬，临民思惠养。纳善察忠谏，明科慎刑赏。六五诚难继，四三非易仰。广待淳化敷，方嗣云亭响。'"
      ]
     },
     "execution_count": 20,
     "metadata": {},
     "output_type": "execute_result"
    }
   ],
   "source": [
    "original_poems[0]"
   ]
  },
  {
   "cell_type": "code",
   "execution_count": 21,
   "metadata": {},
   "outputs": [
    {
     "name": "stdout",
     "output_type": "stream",
     "text": [
      "Features: 写明 明月 ， 骏马 疑 流电 。 惊 雁 落 虚 弦 ， 啼猿 悲 急 箭 。 阅 赏 诚 多美 ， 于 兹\n",
      "\n",
      "Label:  乃\n"
     ]
    }
   ],
   "source": [
    "find_answer(100)"
   ]
  },
  {
   "cell_type": "code",
   "execution_count": 22,
   "metadata": {},
   "outputs": [
    {
     "data": {
      "text/plain": [
       "[('，', 233068),\n",
       " ('。', 230596),\n",
       " ('不', 8004),\n",
       " ('有', 7779),\n",
       " ('无', 7655),\n",
       " ('人', 7435),\n",
       " ('云', 7258),\n",
       " ('君', 7102),\n",
       " ('来', 6976),\n",
       " ('为', 6797),\n",
       " ('在', 6467),\n",
       " ('一', 6233),\n",
       " ('春', 6080),\n",
       " ('中', 6013),\n",
       " ('时', 5996)]"
      ]
     },
     "execution_count": 22,
     "metadata": {},
     "output_type": "execute_result"
    }
   ],
   "source": [
    "sorted(word_counts.items(), key=lambda x: x[1], reverse=True)[:15]"
   ]
  },
  {
   "cell_type": "code",
   "execution_count": 23,
   "metadata": {},
   "outputs": [],
   "source": [
    "from sklearn.utils import shuffle\n",
    "\n",
    "\n",
    "def create_train_valid(features,\n",
    "                       labels,\n",
    "                       num_words,\n",
    "                       train_fraction=TRAIN_FRACTION):\n",
    "    \"\"\"Create training and validation features and labels.\"\"\"\n",
    "\n",
    "    # Randomly shuffle features and labels\n",
    "    features, labels = shuffle(features, labels, random_state=RANDOM_STATE)\n",
    "\n",
    "    # Decide on number of samples for training\n",
    "    train_end = int(train_fraction * len(labels))\n",
    "\n",
    "    train_features = np.array(features[:train_end])\n",
    "    valid_features = np.array(features[train_end:])\n",
    "\n",
    "    train_labels = labels[:train_end]\n",
    "    valid_labels = labels[train_end:]\n",
    "\n",
    "    # Convert to arrays\n",
    "    X_train, X_valid = np.array(train_features), np.array(valid_features)\n",
    "\n",
    "    # Using int8 for memory savings\n",
    "    y_train = np.zeros((len(train_labels), num_words), dtype=np.int8)\n",
    "    y_valid = np.zeros((len(valid_labels), num_words), dtype=np.int8)\n",
    "\n",
    "    # One hot encoding of labels\n",
    "    for example_index, word_index in enumerate(train_labels):\n",
    "        y_train[example_index, word_index] = 1\n",
    "\n",
    "    for example_index, word_index in enumerate(valid_labels):\n",
    "        y_valid[example_index, word_index] = 1\n",
    "\n",
    "    # Memory management\n",
    "    import gc\n",
    "    gc.enable()\n",
    "    del features, labels, train_features, valid_features, train_labels, valid_labels\n",
    "    gc.collect()\n",
    "\n",
    "    return X_train, X_valid, y_train, y_valid"
   ]
  },
  {
   "cell_type": "code",
   "execution_count": 24,
   "metadata": {},
   "outputs": [
    {
     "data": {
      "text/plain": [
       "(911320, 25)"
      ]
     },
     "execution_count": 24,
     "metadata": {},
     "output_type": "execute_result"
    },
    {
     "data": {
      "text/plain": [
       "(911320, 50142)"
      ]
     },
     "execution_count": 24,
     "metadata": {},
     "output_type": "execute_result"
    }
   ],
   "source": [
    "X_train, X_valid, y_train, y_valid = create_train_valid(\n",
    "    features, labels, num_words)\n",
    "X_train.shape\n",
    "y_train.shape"
   ]
  },
  {
   "cell_type": "code",
   "execution_count": 25,
   "metadata": {},
   "outputs": [
    {
     "data": {
      "text/plain": [
       "45.695407552"
      ]
     },
     "execution_count": 25,
     "metadata": {},
     "output_type": "execute_result"
    }
   ],
   "source": [
    "import sys\n",
    "sys.getsizeof(y_train) / 1e9"
   ]
  },
  {
   "cell_type": "code",
   "execution_count": 26,
   "metadata": {},
   "outputs": [
    {
     "name": "stdout",
     "output_type": "stream",
     "text": [
      "Object: y_train   \tSize: 45.695407552 GB.\n",
      "Object: y_valid   \tSize: 19.583810626 GB.\n"
     ]
    }
   ],
   "source": [
    "def check_sizes(gb_min=1):\n",
    "    for x in globals():\n",
    "        size = sys.getsizeof(eval(x)) / 1e9\n",
    "        if size > gb_min:\n",
    "            print(f'Object: {x:10}\\tSize: {size} GB.')\n",
    "\n",
    "\n",
    "check_sizes(gb_min=1)"
   ]
  },
  {
   "cell_type": "code",
   "execution_count": 473,
   "metadata": {},
   "outputs": [
    {
     "name": "stdout",
     "output_type": "stream",
     "text": [
      "Archive:  /Users/samuelmoy/.keras/datasets/wiki.zh_classical.zip\r\n"
     ]
    },
    {
     "ename": "ValueError",
     "evalue": "Wrong number of columns at line 2",
     "output_type": "error",
     "traceback": [
      "\u001b[0;31m---------------------------------------------------------------------------\u001b[0m",
      "\u001b[0;31mValueError\u001b[0m                                Traceback (most recent call last)",
      "\u001b[0;32m<ipython-input-473-c5db7d532b12>\u001b[0m in \u001b[0;36m<module>\u001b[0;34m\u001b[0m\n\u001b[1;32m     13\u001b[0m \u001b[0;31m# Load in unzipped file\u001b[0m\u001b[0;34m\u001b[0m\u001b[0;34m\u001b[0m\u001b[0;34m\u001b[0m\u001b[0m\n\u001b[1;32m     14\u001b[0m \u001b[0mglove_vectors\u001b[0m \u001b[0;34m=\u001b[0m \u001b[0;34m'./wiki.zh_classical/wiki.zh_classical.vec'\u001b[0m\u001b[0;34m\u001b[0m\u001b[0;34m\u001b[0m\u001b[0m\n\u001b[0;32m---> 15\u001b[0;31m \u001b[0mglove\u001b[0m \u001b[0;34m=\u001b[0m \u001b[0mnp\u001b[0m\u001b[0;34m.\u001b[0m\u001b[0mloadtxt\u001b[0m\u001b[0;34m(\u001b[0m\u001b[0mglove_vectors\u001b[0m\u001b[0;34m,\u001b[0m \u001b[0mdtype\u001b[0m\u001b[0;34m=\u001b[0m\u001b[0;34m'str'\u001b[0m\u001b[0;34m,\u001b[0m \u001b[0mcomments\u001b[0m\u001b[0;34m=\u001b[0m\u001b[0;32mNone\u001b[0m\u001b[0;34m)\u001b[0m\u001b[0;34m\u001b[0m\u001b[0;34m\u001b[0m\u001b[0m\n\u001b[0m\u001b[1;32m     16\u001b[0m \u001b[0mglove\u001b[0m\u001b[0;34m.\u001b[0m\u001b[0mshape\u001b[0m\u001b[0;34m\u001b[0m\u001b[0;34m\u001b[0m\u001b[0m\n",
      "\u001b[0;32m/anaconda3/lib/python3.7/site-packages/numpy/lib/npyio.py\u001b[0m in \u001b[0;36mloadtxt\u001b[0;34m(fname, dtype, comments, delimiter, converters, skiprows, usecols, unpack, ndmin, encoding)\u001b[0m\n\u001b[1;32m   1099\u001b[0m         \u001b[0;31m# converting the data\u001b[0m\u001b[0;34m\u001b[0m\u001b[0;34m\u001b[0m\u001b[0;34m\u001b[0m\u001b[0m\n\u001b[1;32m   1100\u001b[0m         \u001b[0mX\u001b[0m \u001b[0;34m=\u001b[0m \u001b[0;32mNone\u001b[0m\u001b[0;34m\u001b[0m\u001b[0;34m\u001b[0m\u001b[0m\n\u001b[0;32m-> 1101\u001b[0;31m         \u001b[0;32mfor\u001b[0m \u001b[0mx\u001b[0m \u001b[0;32min\u001b[0m \u001b[0mread_data\u001b[0m\u001b[0;34m(\u001b[0m\u001b[0m_loadtxt_chunksize\u001b[0m\u001b[0;34m)\u001b[0m\u001b[0;34m:\u001b[0m\u001b[0;34m\u001b[0m\u001b[0;34m\u001b[0m\u001b[0m\n\u001b[0m\u001b[1;32m   1102\u001b[0m             \u001b[0;32mif\u001b[0m \u001b[0mX\u001b[0m \u001b[0;32mis\u001b[0m \u001b[0;32mNone\u001b[0m\u001b[0;34m:\u001b[0m\u001b[0;34m\u001b[0m\u001b[0;34m\u001b[0m\u001b[0m\n\u001b[1;32m   1103\u001b[0m                 \u001b[0mX\u001b[0m \u001b[0;34m=\u001b[0m \u001b[0mnp\u001b[0m\u001b[0;34m.\u001b[0m\u001b[0marray\u001b[0m\u001b[0;34m(\u001b[0m\u001b[0mx\u001b[0m\u001b[0;34m,\u001b[0m \u001b[0mdtype\u001b[0m\u001b[0;34m)\u001b[0m\u001b[0;34m\u001b[0m\u001b[0;34m\u001b[0m\u001b[0m\n",
      "\u001b[0;32m/anaconda3/lib/python3.7/site-packages/numpy/lib/npyio.py\u001b[0m in \u001b[0;36mread_data\u001b[0;34m(chunk_size)\u001b[0m\n\u001b[1;32m   1023\u001b[0m                 \u001b[0mline_num\u001b[0m \u001b[0;34m=\u001b[0m \u001b[0mi\u001b[0m \u001b[0;34m+\u001b[0m \u001b[0mskiprows\u001b[0m \u001b[0;34m+\u001b[0m \u001b[0;36m1\u001b[0m\u001b[0;34m\u001b[0m\u001b[0;34m\u001b[0m\u001b[0m\n\u001b[1;32m   1024\u001b[0m                 raise ValueError(\"Wrong number of columns at line %d\"\n\u001b[0;32m-> 1025\u001b[0;31m                                  % line_num)\n\u001b[0m\u001b[1;32m   1026\u001b[0m \u001b[0;34m\u001b[0m\u001b[0m\n\u001b[1;32m   1027\u001b[0m             \u001b[0;31m# Convert each value according to its column and store\u001b[0m\u001b[0;34m\u001b[0m\u001b[0;34m\u001b[0m\u001b[0;34m\u001b[0m\u001b[0m\n",
      "\u001b[0;31mValueError\u001b[0m: Wrong number of columns at line 2"
     ]
    }
   ],
   "source": [
    "import os\n",
    "from keras.utils import get_file\n",
    "\n",
    "# Vectors to use\n",
    "glove_vectors = '~/.keras/datasets/wiki.zh_classical.zip'\n",
    "\n",
    "# Download word embeddings [if they are not present]\n",
    "if not os.path.exists(glove_vectors):\n",
    "    glove_vectors = get_file('wiki.zh_classical.zip',\n",
    "                             'https://dl.fbaipublicfiles.com/fasttext/vectors-wiki/wiki.zh_classical.zip')\n",
    "    !unzip -f '/Users/samuelmoy/.keras/datasets/wiki.zh_classical.zip'\n",
    "\n",
    "# Load in unzipped file\n",
    "glove_vectors = './wiki.zh_classical/wiki.zh_classical.vec'\n",
    "glove = np.loadtxt(glove_vectors, dtype='str', comments=None)\n",
    "glove.shape"
   ]
  },
  {
   "cell_type": "code",
   "execution_count": 27,
   "metadata": {},
   "outputs": [],
   "source": [
    "#import torch\n",
    "## Text text processing library and methods for pretrained word embeddings\n",
    "#import torchtext\n",
    "#from torchtext.vocab import Vectors, GloVe\n",
    "\n",
    "## Named Tensor wrappers\n",
    "#from namedtensor import ntorch, NamedTensor\n",
    "#from namedtensor.text import NamedField\n",
    "\n",
    "import torchtext.vocab as vocab\n",
    "custom_embeddings = vocab.Vectors(name = './wiki.zh_classical/wiki.zh_classical.vec')"
   ]
  },
  {
   "cell_type": "code",
   "execution_count": 28,
   "metadata": {
    "scrolled": true
   },
   "outputs": [
    {
     "name": "stdout",
     "output_type": "stream",
     "text": [
      "torch.Size([10696, 300])\n"
     ]
    },
    {
     "data": {
      "text/plain": [
       "{'}': 0,\n",
       " ')': 1,\n",
       " '(': 2,\n",
       " '，': 3,\n",
       " 'and': 4,\n",
       " '。': 5,\n",
       " \"'\": 6,\n",
       " '</s>': 7,\n",
       " '-': 8,\n",
       " '之': 9,\n",
       " '、': 10,\n",
       " '也': 11,\n",
       " '>': 12,\n",
       " ',': 13,\n",
       " '.': 14,\n",
       " '）': 15,\n",
       " '（': 16,\n",
       " '者': 17,\n",
       " '為': 18,\n",
       " '以': 19,\n",
       " '其': 20,\n",
       " '曰': 21,\n",
       " '年': 22,\n",
       " '：': 23,\n",
       " '於': 24,\n",
       " '人': 25,\n",
       " '二': 26,\n",
       " '」': 27,\n",
       " '「': 28,\n",
       " '一': 29,\n",
       " '有': 30,\n",
       " '/': 31,\n",
       " '而': 32,\n",
       " '#': 33,\n",
       " '王': 34,\n",
       " '《': 35,\n",
       " '》': 36,\n",
       " '時': 37,\n",
       " '子': 38,\n",
       " '乃': 39,\n",
       " '與': 40,\n",
       " '日': 41,\n",
       " '\\\\': 42,\n",
       " '中': 43,\n",
       " '〇': 44,\n",
       " '\"': 45,\n",
       " '至': 46,\n",
       " '名': 47,\n",
       " 'the': 48,\n",
       " '所': 49,\n",
       " '大': 50,\n",
       " '四': 51,\n",
       " 'utc': 52,\n",
       " '三': 53,\n",
       " '氏': 54,\n",
       " '字': 55,\n",
       " '%': 56,\n",
       " '文': 57,\n",
       " '今': 58,\n",
       " '漢': 59,\n",
       " '後': 60,\n",
       " '亦': 61,\n",
       " '國': 62,\n",
       " '或': 63,\n",
       " '不': 64,\n",
       " '；': 65,\n",
       " 'a': 66,\n",
       " '是': 67,\n",
       " '帝': 68,\n",
       " '多': 69,\n",
       " '無': 70,\n",
       " '書': 71,\n",
       " '謂': 72,\n",
       " '元': 73,\n",
       " '世': 74,\n",
       " '？': 75,\n",
       " '稱': 76,\n",
       " '此': 77,\n",
       " '·': 78,\n",
       " '又': 79,\n",
       " '故': 80,\n",
       " '在': 81,\n",
       " '一九': 82,\n",
       " '\\u3000': 83,\n",
       " '及': 84,\n",
       " 'to': 85,\n",
       " '遂': 86,\n",
       " '皆': 87,\n",
       " '自': 88,\n",
       " '上': 89,\n",
       " '爲': 90,\n",
       " '則': 91,\n",
       " '生': 92,\n",
       " '諸': 93,\n",
       " '州': 94,\n",
       " '號': 95,\n",
       " '立': 96,\n",
       " '六': 97,\n",
       " '五': 98,\n",
       " '斯': 99,\n",
       " '言': 100,\n",
       " '德': 101,\n",
       " '成': 102,\n",
       " '入': 103,\n",
       " '南': 104,\n",
       " '分': 105,\n",
       " '父': 106,\n",
       " '可': 107,\n",
       " '宗': 108,\n",
       " '等': 109,\n",
       " '郡': 110,\n",
       " '七': 111,\n",
       " '見': 112,\n",
       " '行': 113,\n",
       " '事': 114,\n",
       " '三年': 115,\n",
       " '新': 116,\n",
       " '得': 117,\n",
       " '矣': 118,\n",
       " '初': 119,\n",
       " '復': 120,\n",
       " '方': 121,\n",
       " 'style': 122,\n",
       " '明': 123,\n",
       " '下': 124,\n",
       " '數': 125,\n",
       " 'b': 126,\n",
       " '始': 127,\n",
       " '屬': 128,\n",
       " '都': 129,\n",
       " '然': 130,\n",
       " '西': 131,\n",
       " '二十': 132,\n",
       " '東': 133,\n",
       " 'chart': 134,\n",
       " '語': 135,\n",
       " '吳': 136,\n",
       " 'x': 137,\n",
       " '地': 138,\n",
       " 'in': 139,\n",
       " '侯': 140,\n",
       " '本': 141,\n",
       " '軍': 142,\n",
       " '縣': 143,\n",
       " '居': 144,\n",
       " '出': 145,\n",
       " '古': 146,\n",
       " '若': 147,\n",
       " 'of': 148,\n",
       " '圖': 149,\n",
       " '中國': 150,\n",
       " '陳': 151,\n",
       " '公': 152,\n",
       " '皇帝': 153,\n",
       " '爾': 154,\n",
       " '〇〇': 155,\n",
       " '北': 156,\n",
       " '使': 157,\n",
       " '蓋': 158,\n",
       " '用': 159,\n",
       " 'if': 160,\n",
       " '李': 161,\n",
       " '法': 162,\n",
       " '魏': 163,\n",
       " '七年': 164,\n",
       " '二年': 165,\n",
       " '天': 166,\n",
       " '月': 167,\n",
       " '從': 168,\n",
       " '維基': 169,\n",
       " '欲': 170,\n",
       " '作': 171,\n",
       " '焉': 172,\n",
       " '集': 173,\n",
       " '+': 174,\n",
       " '市': 175,\n",
       " '四年': 176,\n",
       " '八': 177,\n",
       " 'for': 178,\n",
       " '因': 179,\n",
       " '府': 180,\n",
       " '平': 181,\n",
       " '卒': 182,\n",
       " '封': 183,\n",
       " '日本': 184,\n",
       " '母': 185,\n",
       " '凡': 186,\n",
       " '相': 187,\n",
       " '$': 188,\n",
       " '如': 189,\n",
       " '五年': 190,\n",
       " '餘': 191,\n",
       " '將': 192,\n",
       " 't': 193,\n",
       " '城': 194,\n",
       " '道': 195,\n",
       " '家': 196,\n",
       " '張': 197,\n",
       " '同': 198,\n",
       " '長': 199,\n",
       " '唐': 200,\n",
       " '區': 201,\n",
       " '清': 202,\n",
       " '非': 203,\n",
       " '和': 204,\n",
       " '前': 205,\n",
       " '乎': 206,\n",
       " '!': 207,\n",
       " '卷': 208,\n",
       " '官': 209,\n",
       " '周': 210,\n",
       " '君': 211,\n",
       " '學': 212,\n",
       " '即': 213,\n",
       " '零': 214,\n",
       " 'cell': 215,\n",
       " '處': 216,\n",
       " '孫': 217,\n",
       " '武': 218,\n",
       " '民': 219,\n",
       " '一八': 220,\n",
       " '安': 221,\n",
       " '將軍': 222,\n",
       " '何': 223,\n",
       " '令': 224,\n",
       " '階': 225,\n",
       " '甚': 226,\n",
       " '主': 227,\n",
       " '甲': 228,\n",
       " '置': 229,\n",
       " '祖': 230,\n",
       " '六年': 231,\n",
       " '九': 232,\n",
       " '會': 233,\n",
       " '遷': 234,\n",
       " 'you': 235,\n",
       " '合': 236,\n",
       " 'is': 237,\n",
       " '口': 238,\n",
       " '山': 239,\n",
       " 'local': 240,\n",
       " '萬': 241,\n",
       " 'align': 242,\n",
       " '晉': 243,\n",
       " '知': 244,\n",
       " '女': 245,\n",
       " '未': 246,\n",
       " '三十': 247,\n",
       " '克': 248,\n",
       " '定': 249,\n",
       " 'or': 250,\n",
       " '里': 251,\n",
       " '阿': 252,\n",
       " '八年': 253,\n",
       " '物': 254,\n",
       " '陽': 255,\n",
       " '眾': 256,\n",
       " '次': 257,\n",
       " '嘗': 258,\n",
       " '史': 259,\n",
       " '孝': 260,\n",
       " '通': 261,\n",
       " '省': 262,\n",
       " '傳': 263,\n",
       " '阶': 264,\n",
       " '任': 265,\n",
       " '少': 266,\n",
       " '高': 267,\n",
       " '的': 268,\n",
       " '一六': 269,\n",
       " '大典': 270,\n",
       " 'e': 271,\n",
       " '以為': 272,\n",
       " '羅': 273,\n",
       " '治': 274,\n",
       " '劉': 275,\n",
       " '特': 276,\n",
       " '九年': 277,\n",
       " '聞': 278,\n",
       " '加': 279,\n",
       " '去': 280,\n",
       " '已': 281,\n",
       " '部': 282,\n",
       " '于': 283,\n",
       " '之戰': 284,\n",
       " '一年': 285,\n",
       " '正': 286,\n",
       " '夫': 287,\n",
       " '易': 288,\n",
       " '首': 289,\n",
       " 'f': 290,\n",
       " 'on': 291,\n",
       " '內': 292,\n",
       " '改': 293,\n",
       " '公曆': 294,\n",
       " '諱': 295,\n",
       " 'then': 296,\n",
       " '元年': 297,\n",
       " '兵': 298,\n",
       " '位': 299,\n",
       " 'this': 300,\n",
       " '請': 301,\n",
       " '耳': 302,\n",
       " '宋': 303,\n",
       " '天下': 304,\n",
       " '建': 305,\n",
       " 'data': 306,\n",
       " '金': 307,\n",
       " '拉': 308,\n",
       " '取': 309,\n",
       " '進': 310,\n",
       " '朝': 311,\n",
       " '記': 312,\n",
       " '實': 313,\n",
       " '英': 314,\n",
       " '吾': 315,\n",
       " '師': 316,\n",
       " 's': 317,\n",
       " '夏': 318,\n",
       " '黃': 319,\n",
       " '廣': 320,\n",
       " '門': 321,\n",
       " '廿': 322,\n",
       " '水': 323,\n",
       " '政': 324,\n",
       " '興': 325,\n",
       " '常': 326,\n",
       " '尚': 327,\n",
       " '士': 328,\n",
       " 'i': 329,\n",
       " 'width': 330,\n",
       " '列': 331,\n",
       " 'args': 332,\n",
       " '公里': 333,\n",
       " '衛': 334,\n",
       " '經': 335,\n",
       " 'top': 336,\n",
       " '馬': 337,\n",
       " '趙': 338,\n",
       " '論': 339,\n",
       " '十五': 340,\n",
       " '太': 341,\n",
       " '^': 342,\n",
       " '議': 343,\n",
       " '由': 344,\n",
       " '紀': 345,\n",
       " '還': 346,\n",
       " '民國': 347,\n",
       " '?': 348,\n",
       " '共和國': 349,\n",
       " '誌': 350,\n",
       " '先': 351,\n",
       " '十二': 352,\n",
       " '起': 353,\n",
       " '當': 354,\n",
       " '權': 355,\n",
       " '三月': 356,\n",
       " '小': 357,\n",
       " '秦': 358,\n",
       " '海': 359,\n",
       " '拜': 360,\n",
       " '二月': 361,\n",
       " '能': 362,\n",
       " '並': 363,\n",
       " '章': 364,\n",
       " '中華': 365,\n",
       " '皇后': 366,\n",
       " '格': 367,\n",
       " '昭': 368,\n",
       " '巴': 369,\n",
       " '薨': 370,\n",
       " '景': 371,\n",
       " '意': 372,\n",
       " '光': 373,\n",
       " '命': 374,\n",
       " 'talk': 375,\n",
       " '既': 376,\n",
       " '代': 377,\n",
       " '︰': 378,\n",
       " 'c': 379,\n",
       " '伯': 380,\n",
       " '林': 381,\n",
       " '十二月': 382,\n",
       " '歸': 383,\n",
       " '攻': 384,\n",
       " '十': 385,\n",
       " '性': 386,\n",
       " '齊': 387,\n",
       " '全': 388,\n",
       " '重': 389,\n",
       " '間': 390,\n",
       " '嗣': 391,\n",
       " '陵': 392,\n",
       " '一二': 393,\n",
       " '著': 394,\n",
       " '維': 395,\n",
       " '據': 396,\n",
       " '開': 397,\n",
       " '善': 398,\n",
       " '達': 399,\n",
       " '乙': 400,\n",
       " '七月': 401,\n",
       " 'label': 402,\n",
       " '異': 403,\n",
       " '載': 404,\n",
       " '十六': 405,\n",
       " '六月': 406,\n",
       " '妻': 407,\n",
       " '必': 408,\n",
       " '遣': 409,\n",
       " '人民': 410,\n",
       " '制': 411,\n",
       " '接': 412,\n",
       " '亞': 413,\n",
       " '廢': 414,\n",
       " '！': 415,\n",
       " '朱': 416,\n",
       " '土': 417,\n",
       " '義': 418,\n",
       " '五月': 419,\n",
       " '崩': 420,\n",
       " '大學': 421,\n",
       " '一月': 422,\n",
       " '弟': 423,\n",
       " '別': 424,\n",
       " '十七': 425,\n",
       " '奉': 426,\n",
       " '梁': 427,\n",
       " '云': 428,\n",
       " '利': 429,\n",
       " '戰': 430,\n",
       " '—': 431,\n",
       " 'box': 432,\n",
       " '十月': 433,\n",
       " '表': 434,\n",
       " '不可': 435,\n",
       " 'bgcolor': 436,\n",
       " '五十': 437,\n",
       " '尼': 438,\n",
       " '第': 439,\n",
       " 'text': 440,\n",
       " '惟': 441,\n",
       " '臨': 442,\n",
       " 'be': 443,\n",
       " '十一月': 444,\n",
       " '魯': 445,\n",
       " '越': 446,\n",
       " '白': 447,\n",
       " '且': 448,\n",
       " '太子': 449,\n",
       " '美國': 450,\n",
       " '八月': 451,\n",
       " '死': 452,\n",
       " '己': 453,\n",
       " '春': 454,\n",
       " '音': 455,\n",
       " '共': 456,\n",
       " '曹': 457,\n",
       " '思': 458,\n",
       " '島': 459,\n",
       " 'return': 460,\n",
       " '簡': 461,\n",
       " '十九': 462,\n",
       " '四十': 463,\n",
       " '年生': 464,\n",
       " '司': 465,\n",
       " '約': 466,\n",
       " '說': 467,\n",
       " '楚': 468,\n",
       " '存': 469,\n",
       " '朝鮮': 470,\n",
       " '奧': 471,\n",
       " '米': 472,\n",
       " '布': 473,\n",
       " '纪': 474,\n",
       " '度': 475,\n",
       " 'size': 476,\n",
       " '譯': 477,\n",
       " '宣': 478,\n",
       " '除': 479,\n",
       " '韓': 480,\n",
       " '乘': 481,\n",
       " '積': 482,\n",
       " '丁': 483,\n",
       " '殺': 484,\n",
       " '領': 485,\n",
       " '仁': 486,\n",
       " '亡': 487,\n",
       " '•': 488,\n",
       " '雖': 489,\n",
       " '忠': 490,\n",
       " '十八': 491,\n",
       " '之一': 492,\n",
       " '計': 493,\n",
       " '早': 494,\n",
       " 'function': 495,\n",
       " '納': 496,\n",
       " '我': 497,\n",
       " '卡': 498,\n",
       " '禁': 499,\n",
       " '受': 500,\n",
       " '楊': 501,\n",
       " '發': 502,\n",
       " '承': 503,\n",
       " '各': 504,\n",
       " '神': 505,\n",
       " '四月': 506,\n",
       " '科': 507,\n",
       " '終': 508,\n",
       " '化': 509,\n",
       " '鎮': 510,\n",
       " '姓': 511,\n",
       " '宮': 512,\n",
       " '授': 513,\n",
       " '設': 514,\n",
       " '力': 515,\n",
       " '臺灣': 516,\n",
       " '近': 517,\n",
       " '應': 518,\n",
       " '望': 519,\n",
       " 'font': 520,\n",
       " '左': 521,\n",
       " '美': 522,\n",
       " '寧': 523,\n",
       " '功': 524,\n",
       " '十三': 525,\n",
       " '許': 526,\n",
       " '樂': 527,\n",
       " '類': 528,\n",
       " '觀': 529,\n",
       " '降': 530,\n",
       " '來': 531,\n",
       " '每': 532,\n",
       " '界': 533,\n",
       " 'it': 534,\n",
       " '略': 535,\n",
       " '致': 536,\n",
       " '咸': 537,\n",
       " '臣': 538,\n",
       " 'v': 539,\n",
       " '丙': 540,\n",
       " '末': 541,\n",
       " 'wikimedia': 542,\n",
       " '木': 543,\n",
       " '心': 544,\n",
       " '志': 545,\n",
       " '基': 546,\n",
       " 'vertical': 547,\n",
       " '尚書': 548,\n",
       " '歲': 549,\n",
       " '邑': 550,\n",
       " '泰': 551,\n",
       " '順': 552,\n",
       " '禮': 553,\n",
       " '烈': 554,\n",
       " '反': 555,\n",
       " '聖': 556,\n",
       " '理': 557,\n",
       " '外': 558,\n",
       " '節': 559,\n",
       " '解': 560,\n",
       " '江': 561,\n",
       " '登': 562,\n",
       " '更': 563,\n",
       " 'em': 564,\n",
       " 'that': 565,\n",
       " '信': 566,\n",
       " '簿': 567,\n",
       " '十四': 568,\n",
       " '不能': 569,\n",
       " 'are': 570,\n",
       " '詔': 571,\n",
       " '莫': 572,\n",
       " 'will': 573,\n",
       " '京': 574,\n",
       " '－': 575,\n",
       " '食': 576,\n",
       " '三百': 577,\n",
       " '奇': 578,\n",
       " '龍': 579,\n",
       " '敗': 580,\n",
       " '好': 581,\n",
       " '汝': 582,\n",
       " '』': 583,\n",
       " '頁': 584,\n",
       " '星': 585,\n",
       " '風': 586,\n",
       " 'center': 587,\n",
       " '尋': 588,\n",
       " '『': 589,\n",
       " '鄭': 590,\n",
       " '比': 591,\n",
       " 'user': 592,\n",
       " '六十': 593,\n",
       " '太守': 594,\n",
       " '九月': 595,\n",
       " '宜': 596,\n",
       " '一日': 597,\n",
       " '舉': 598,\n",
       " 'your': 599,\n",
       " '百': 600,\n",
       " 'd': 601,\n",
       " 'n': 602,\n",
       " 'm': 603,\n",
       " '惠': 604,\n",
       " '舊': 605,\n",
       " '千': 606,\n",
       " '獻': 607,\n",
       " '一百': 608,\n",
       " '普': 609,\n",
       " '序': 610,\n",
       " '化學': 611,\n",
       " '破': 612,\n",
       " '討': 613,\n",
       " '永': 614,\n",
       " '連': 615,\n",
       " '蘭': 616,\n",
       " '華': 617,\n",
       " '詩': 618,\n",
       " '文言': 619,\n",
       " '總統': 620,\n",
       " 'div': 621,\n",
       " '修': 622,\n",
       " '晚': 623,\n",
       " '穆': 624,\n",
       " 'page': 625,\n",
       " '十一': 626,\n",
       " 'y': 627,\n",
       " '閱': 628,\n",
       " '鄉': 629,\n",
       " '交': 630,\n",
       " '色': 631,\n",
       " '原': 632,\n",
       " 'wiki': 633,\n",
       " '威': 634,\n",
       " 'wikipedia': 635,\n",
       " '塔': 636,\n",
       " 'can': 637,\n",
       " '以其': 638,\n",
       " '呂': 639,\n",
       " 'list': 640,\n",
       " 'image': 641,\n",
       " '鄰': 642,\n",
       " '繼': 643,\n",
       " '諡': 644,\n",
       " '詞': 645,\n",
       " '陸': 646,\n",
       " 'we': 647,\n",
       " '河': 648,\n",
       " '右': 649,\n",
       " '族': 650,\n",
       " '亦有': 651,\n",
       " 'table': 652,\n",
       " 'self': 653,\n",
       " '遠': 654,\n",
       " '問': 655,\n",
       " '康': 656,\n",
       " '妃': 657,\n",
       " '真': 658,\n",
       " '守': 659,\n",
       " '他': 660,\n",
       " '曲': 661,\n",
       " '滅': 662,\n",
       " '素': 663,\n",
       " '司馬': 664,\n",
       " '戶': 665,\n",
       " '壽': 666,\n",
       " '_': 667,\n",
       " '察': 668,\n",
       " '賜': 669,\n",
       " '歷': 670,\n",
       " '擊': 671,\n",
       " '英文': 672,\n",
       " '溫': 673,\n",
       " '過': 674,\n",
       " 'org': 675,\n",
       " '石': 676,\n",
       " '昌': 677,\n",
       " 'padding': 678,\n",
       " '盡': 679,\n",
       " '洛': 680,\n",
       " 'p': 681,\n",
       " '獨': 682,\n",
       " '兼': 683,\n",
       " '往': 684,\n",
       " '敬': 685,\n",
       " '吉': 686,\n",
       " '求': 687,\n",
       " '節日': 688,\n",
       " '分類': 689,\n",
       " '統': 690,\n",
       " '指': 691,\n",
       " '版': 692,\n",
       " '七十': 693,\n",
       " 'not': 694,\n",
       " 'group': 695,\n",
       " 'as': 696,\n",
       " '卿': 697,\n",
       " '唯': 698,\n",
       " '止': 699,\n",
       " '準': 700,\n",
       " 'px': 701,\n",
       " '策': 702,\n",
       " '校': 703,\n",
       " '率': 704,\n",
       " 'round': 705,\n",
       " 'do': 706,\n",
       " '崔': 707,\n",
       " '謝': 708,\n",
       " '兄': 709,\n",
       " '源': 710,\n",
       " '群': 711,\n",
       " '對': 712,\n",
       " '川': 713,\n",
       " '后': 714,\n",
       " '藏': 715,\n",
       " '式': 716,\n",
       " 'with': 717,\n",
       " '顯': 718,\n",
       " '廷': 719,\n",
       " '太祖': 720,\n",
       " '關': 721,\n",
       " '益': 722,\n",
       " '徐': 723,\n",
       " '逝': 724,\n",
       " '二百': 725,\n",
       " '余': 726,\n",
       " '域': 727,\n",
       " '形': 728,\n",
       " '直': 729,\n",
       " '兒': 730,\n",
       " '猶': 731,\n",
       " '教': 732,\n",
       " 'h': 733,\n",
       " '變': 734,\n",
       " 'all': 735,\n",
       " '公主': 736,\n",
       " '操': 737,\n",
       " '元素': 738,\n",
       " '富': 739,\n",
       " '嘉': 740,\n",
       " '負': 741,\n",
       " '點': 742,\n",
       " '弗': 743,\n",
       " '盛': 744,\n",
       " '一時': 745,\n",
       " 'october': 746,\n",
       " '博': 747,\n",
       " '亭': 748,\n",
       " 'right': 749,\n",
       " '考': 750,\n",
       " '極': 751,\n",
       " '九十': 752,\n",
       " '業': 753,\n",
       " '叔': 754,\n",
       " '失': 755,\n",
       " '引': 756,\n",
       " '英國': 757,\n",
       " '之後': 758,\n",
       " '慶': 759,\n",
       " '身': 760,\n",
       " '延': 761,\n",
       " '車': 762,\n",
       " '隨': 763,\n",
       " '疾': 764,\n",
       " '杜': 765,\n",
       " '商': 766,\n",
       " '香港': 767,\n",
       " '原子': 768,\n",
       " 'title': 769,\n",
       " 'colspan': 770,\n",
       " '玄': 771,\n",
       " '召': 772,\n",
       " '賊': 773,\n",
       " '雲': 774,\n",
       " '萬餘': 775,\n",
       " '四日': 776,\n",
       " '伊': 777,\n",
       " '注': 778,\n",
       " '曼': 779,\n",
       " '謀': 780,\n",
       " '愛': 781,\n",
       " '…': 782,\n",
       " '系': 783,\n",
       " '俱': 784,\n",
       " '纂': 785,\n",
       " '備': 786,\n",
       " '旋': 787,\n",
       " '一一': 788,\n",
       " '質': 789,\n",
       " '哈': 790,\n",
       " '季': 791,\n",
       " 'please': 792,\n",
       " '第二': 793,\n",
       " '征': 794,\n",
       " '光緒': 795,\n",
       " '目': 796,\n",
       " 'k': 797,\n",
       " '路': 798,\n",
       " '被': 799,\n",
       " '典': 800,\n",
       " '賢': 801,\n",
       " '蒙': 802,\n",
       " '兩': 803,\n",
       " '空間': 804,\n",
       " '蜀': 805,\n",
       " '邦': 806,\n",
       " '要': 807,\n",
       " '靈': 808,\n",
       " '臺': 809,\n",
       " '親': 810,\n",
       " '吳郡': 811,\n",
       " '第三': 812,\n",
       " '休': 813,\n",
       " '四百': 814,\n",
       " '蘇': 815,\n",
       " '房': 816,\n",
       " '亂': 817,\n",
       " '徙': 818,\n",
       " '再': 819,\n",
       " '角': 820,\n",
       " '恭': 821,\n",
       " 'mw': 822,\n",
       " '深': 823,\n",
       " '越南': 824,\n",
       " 'from': 825,\n",
       " '賈': 826,\n",
       " '田': 827,\n",
       " '器': 828,\n",
       " '八十': 829,\n",
       " '塞': 830,\n",
       " 'background': 831,\n",
       " '線': 832,\n",
       " '仲': 833,\n",
       " '保': 834,\n",
       " '刪': 835,\n",
       " '轉': 836,\n",
       " '長子': 837,\n",
       " '固': 838,\n",
       " '希': 839,\n",
       " 'language': 840,\n",
       " '仄': 841,\n",
       " '創': 842,\n",
       " '體': 843,\n",
       " '黨': 844,\n",
       " '象': 845,\n",
       " 'have': 846,\n",
       " '漸': 847,\n",
       " '其中': 848,\n",
       " '流': 849,\n",
       " '副': 850,\n",
       " '總': 851,\n",
       " '尤': 852,\n",
       " '夜': 853,\n",
       " '沙': 854,\n",
       " '啟': 855,\n",
       " '示': 856,\n",
       " '夷': 857,\n",
       " '環': 858,\n",
       " '憲': 859,\n",
       " '濟': 860,\n",
       " 'https': 861,\n",
       " '視': 862,\n",
       " '百科': 863,\n",
       " '勝': 864,\n",
       " '冬': 865,\n",
       " '營': 866,\n",
       " '勒': 867,\n",
       " '丹': 868,\n",
       " '呼': 869,\n",
       " '留': 870,\n",
       " '習': 871,\n",
       " '肇': 872,\n",
       " '員': 873,\n",
       " '辭': 874,\n",
       " '誠': 875,\n",
       " '刺史': 876,\n",
       " '十年': 877,\n",
       " 'frac': 878,\n",
       " '陰': 879,\n",
       " '榮': 880,\n",
       " 'cfg': 881,\n",
       " '一五': 882,\n",
       " 'の': 883,\n",
       " '五日': 884,\n",
       " '術': 885,\n",
       " '陶': 886,\n",
       " 'zh': 887,\n",
       " '之地': 888,\n",
       " '乾': 889,\n",
       " '進士': 890,\n",
       " 'mod': 891,\n",
       " '寶': 892,\n",
       " '錄': 893,\n",
       " '讀': 894,\n",
       " '正月': 895,\n",
       " '即位': 896,\n",
       " '夫人': 897,\n",
       " '室': 898,\n",
       " '難': 899,\n",
       " '葉': 900,\n",
       " '悉': 901,\n",
       " '可以': 902,\n",
       " '大臣': 903,\n",
       " '增': 904,\n",
       " 'country': 905,\n",
       " '紹': 906,\n",
       " 'g': 907,\n",
       " '公元': 908,\n",
       " '走': 909,\n",
       " '汗': 910,\n",
       " '之事': 911,\n",
       " '遇': 912,\n",
       " '律': 913,\n",
       " '二千': 914,\n",
       " '才': 915,\n",
       " '須': 916,\n",
       " '并': 917,\n",
       " '零零': 918,\n",
       " 'ffffff': 919,\n",
       " '為一': 920,\n",
       " '模': 921,\n",
       " '於此': 922,\n",
       " '追': 923,\n",
       " '射': 924,\n",
       " '湯': 925,\n",
       " 'at': 926,\n",
       " '罷': 927,\n",
       " '依': 928,\n",
       " '子孫': 929,\n",
       " 'an': 930,\n",
       " '七日': 931,\n",
       " '\\xa0': 932,\n",
       " '最': 933,\n",
       " '逾': 934,\n",
       " '三千': 935,\n",
       " 'help': 936,\n",
       " '學校': 937,\n",
       " '雅': 938,\n",
       " '郎': 939,\n",
       " '僅': 940,\n",
       " '助': 941,\n",
       " '半': 942,\n",
       " '撰': 943,\n",
       " '騎': 944,\n",
       " '輔': 945,\n",
       " '五百': 946,\n",
       " '伐': 947,\n",
       " '述': 948,\n",
       " 'r': 949,\n",
       " '久': 950,\n",
       " '尹': 951,\n",
       " '襲': 952,\n",
       " '始於': 953,\n",
       " '代數': 954,\n",
       " '皇': 955,\n",
       " '邊': 956,\n",
       " '尊': 957,\n",
       " '烏': 958,\n",
       " '申': 959,\n",
       " '服': 960,\n",
       " '西南': 961,\n",
       " '為之': 962,\n",
       " '釋': 963,\n",
       " '累': 964,\n",
       " '危': 965,\n",
       " 'edit': 966,\n",
       " '錢': 967,\n",
       " '社': 968,\n",
       " '秋': 969,\n",
       " '疏': 970,\n",
       " '瓦': 971,\n",
       " 'other': 972,\n",
       " 'z': 973,\n",
       " 'border': 974,\n",
       " '索': 975,\n",
       " '不知': 976,\n",
       " '→': 977,\n",
       " 'new': 978,\n",
       " '不得': 979,\n",
       " '淮': 980,\n",
       " '羅馬': 981,\n",
       " '東方': 982,\n",
       " '予': 983,\n",
       " '殿': 984,\n",
       " '郭': 985,\n",
       " '九五': 986,\n",
       " 'by': 987,\n",
       " '福': 988,\n",
       " '赴': 989,\n",
       " '蒙古': 990,\n",
       " '亮': 991,\n",
       " '朝廷': 992,\n",
       " '具': 993,\n",
       " 'parameter': 994,\n",
       " '胡': 995,\n",
       " '密': 996,\n",
       " '果': 997,\n",
       " 'bot': 998,\n",
       " '花': 999,\n",
       " ...}"
      ]
     },
     "execution_count": 28,
     "metadata": {},
     "output_type": "execute_result"
    }
   ],
   "source": [
    "print(custom_embeddings.vectors.size())\n",
    "custom_embeddings.stoi"
   ]
  },
  {
   "cell_type": "code",
   "execution_count": 29,
   "metadata": {},
   "outputs": [
    {
     "data": {
      "text/plain": [
       "(array([ 0.14944001, -0.010984  ,  0.050955  ,  0.017788  ,  0.084571  ,\n",
       "        -0.066394  ,  0.17843001, -0.097123  ,  0.064354  ,  0.065977  ,\n",
       "         0.043409  ,  0.27083001, -0.25452   ,  0.19599999,  0.098299  ,\n",
       "        -0.33114001, -0.0545    , -0.18364   ,  0.007522  ,  0.039397  ,\n",
       "        -0.099641  ,  0.043768  ,  0.48302001, -0.16561   , -0.15504999,\n",
       "         0.036061  ,  0.23657   , -0.19905999,  0.18274   ,  0.23434   ,\n",
       "         0.18697   , -0.09882   , -0.064952  ,  0.057829  , -0.11223   ,\n",
       "        -0.10266   ,  0.11299   , -0.0067019 ,  0.02745   , -0.18362001,\n",
       "        -0.0042932 ,  0.083086  ,  0.2       ,  0.15103   , -0.047175  ,\n",
       "         0.016927  , -0.080804  , -0.14789   , -0.021097  , -0.11833   ,\n",
       "         0.075209  ,  0.29705   , -0.029922  ,  0.042516  ,  0.05295   ,\n",
       "         0.21228001, -0.060093  , -0.16531999,  0.021959  ,  0.10729   ,\n",
       "         0.10614   ,  0.16182999,  0.16108   ,  0.28654999,  0.24206001,\n",
       "         0.37278   ,  0.10959   , -0.039547  , -0.12121   ,  0.049727  ,\n",
       "        -0.037236  ,  0.17682999, -0.10215   ,  0.028413  ,  0.013813  ,\n",
       "        -0.04399   ,  0.066188  ,  0.11097   ,  0.087184  , -0.045568  ,\n",
       "        -0.26141   , -0.0052608 ,  0.24735001, -0.13909   ,  0.011723  ,\n",
       "        -0.19707   , -0.17857   ,  0.2288    , -0.021522  , -0.33579001,\n",
       "         0.18884   ,  0.070478  ,  0.15135001,  0.0018019 ,  0.1856    ,\n",
       "         0.057011  ,  0.02369   , -0.040886  ,  0.13615   ,  0.14063001,\n",
       "        -0.11284   ,  0.26501   ,  0.042953  , -0.10997   , -0.18677001,\n",
       "         0.00090624,  0.13799   ,  0.27497   ,  0.12432   ,  0.15351   ,\n",
       "         0.11455   ,  0.058132  , -0.10472   ,  0.020088  ,  0.17224   ,\n",
       "        -0.20422   , -0.15507001, -0.12788001,  0.073003  , -0.14429   ,\n",
       "        -0.058063  , -0.055418  , -0.13191999,  0.14757   , -0.19413   ,\n",
       "         0.062884  ,  0.022142  ,  0.26115   ,  0.0062811 ,  0.027135  ,\n",
       "        -0.081541  ,  0.14668   ,  0.16614   ,  0.13366   , -0.19341999,\n",
       "        -0.023893  ,  0.0016677 , -0.16531   , -0.19339   , -0.014236  ,\n",
       "        -0.0038462 ,  0.25334001,  0.072212  , -0.12824   , -0.17863999,\n",
       "        -0.043586  ,  0.045231  , -0.032043  , -0.074507  ,  0.33243001,\n",
       "        -0.15603   ,  0.013998  , -0.22683001, -0.038458  ,  0.079225  ,\n",
       "        -0.35372999,  0.057795  ,  0.11201   , -0.18195   , -0.019806  ,\n",
       "        -0.021173  ,  0.126     ,  0.18627   ,  0.02366   , -0.050642  ,\n",
       "        -0.17321   ,  0.020774  ,  0.26194   ,  0.15685999,  0.13666999,\n",
       "        -0.099945  , -0.06294   , -0.083371  ,  0.10659   ,  0.11344   ,\n",
       "        -0.015676  , -0.18015   , -0.092219  ,  0.12224   , -0.009355  ,\n",
       "        -0.1261    , -0.044256  , -0.064034  , -0.0050404 ,  0.09022   ,\n",
       "         0.13045   , -0.0024324 , -0.031756  , -0.1873    ,  0.10557   ,\n",
       "        -0.032811  ,  0.24848001, -0.09667   , -0.19021   , -0.20409   ,\n",
       "        -0.10648   ,  0.0016182 ,  0.004803  ,  0.18663999, -0.067011  ,\n",
       "         0.045984  ,  0.038113  , -0.12373   , -0.22109   ,  0.26422   ,\n",
       "         0.15539999,  0.2387    ,  0.20421   , -0.11745   ,  0.0030027 ,\n",
       "         0.14624999, -0.17061999, -0.039685  ,  0.21822   ,  0.22054   ,\n",
       "        -0.083314  , -0.02228   ,  0.1558    ,  0.16074   ,  0.043617  ,\n",
       "         0.045075  , -0.12219   , -0.021202  , -0.0031124 ,  0.18043999,\n",
       "        -0.28716001,  0.084846  ,  0.044671  ,  0.28558001, -0.18477   ,\n",
       "        -0.00066716,  0.043032  , -0.10016   ,  0.11383   , -0.027567  ,\n",
       "         0.062498  ,  0.10615   ,  0.20952   , -0.22006001,  0.19023   ,\n",
       "         0.19721   , -0.27305001,  0.091325  , -0.066068  ,  0.033542  ,\n",
       "        -0.25365999,  0.13434   , -0.29438001,  0.028006  ,  0.061013  ,\n",
       "        -0.047621  , -0.1088    ,  0.16079   ,  0.067837  , -0.058704  ,\n",
       "         0.0090986 ,  0.13510001, -0.084539  ,  0.089706  ,  0.14308   ,\n",
       "        -0.16283   ,  0.036992  ,  0.018088  , -0.045332  ,  0.060964  ,\n",
       "         0.04121   ,  0.15937001, -0.042731  ,  0.064629  , -0.096034  ,\n",
       "        -0.067781  ,  0.003529  ,  0.33069   ,  0.067872  ,  0.051905  ,\n",
       "         0.074561  ,  0.036371  , -0.051338  , -0.10726   ,  0.055301  ,\n",
       "         0.12424   ,  0.29686999, -0.13827001,  0.0031228 , -0.012155  ,\n",
       "         0.15884   ,  0.094832  , -0.08397   , -0.13084   , -0.062894  ,\n",
       "         0.22957   ,  0.0025627 ,  0.037433  ,  0.026286  ,  0.095258  ,\n",
       "         0.32846001, -0.093115  ,  0.019576  , -0.044129  ]), '言')"
      ]
     },
     "execution_count": 29,
     "metadata": {},
     "output_type": "execute_result"
    }
   ],
   "source": [
    "vectors = custom_embeddings.vectors[:, 1:].numpy().astype('float')\n",
    "words = list(custom_embeddings.stoi.keys())\n",
    "\n",
    "del custom_embeddings\n",
    "\n",
    "vectors[100], words[100]"
   ]
  },
  {
   "cell_type": "code",
   "execution_count": 30,
   "metadata": {},
   "outputs": [
    {
     "data": {
      "text/plain": [
       "(10696, 299)"
      ]
     },
     "execution_count": 30,
     "metadata": {},
     "output_type": "execute_result"
    }
   ],
   "source": [
    "vectors.shape"
   ]
  },
  {
   "cell_type": "code",
   "execution_count": 31,
   "metadata": {},
   "outputs": [
    {
     "name": "stdout",
     "output_type": "stream",
     "text": [
      "There were 46310 words without pre-trained embeddings.\n"
     ]
    }
   ],
   "source": [
    "word_lookup = {word: vector for word, vector in zip(words, vectors)}\n",
    "\n",
    "embedding_matrix = np.zeros((num_words, vectors.shape[1]))\n",
    "\n",
    "not_found = 0\n",
    "\n",
    "for i, word in enumerate(word_idx.keys()):\n",
    "    # Look up the word embedding\n",
    "    vector = word_lookup.get(word, None)\n",
    "\n",
    "    # Record in matrix\n",
    "    if vector is not None:\n",
    "        embedding_matrix[i + 1, :] = vector\n",
    "    else:\n",
    "        not_found += 1\n",
    "\n",
    "print(f'There were {not_found} words without pre-trained embeddings.')"
   ]
  },
  {
   "cell_type": "code",
   "execution_count": 32,
   "metadata": {},
   "outputs": [
    {
     "data": {
      "text/plain": [
       "0"
      ]
     },
     "execution_count": 32,
     "metadata": {},
     "output_type": "execute_result"
    }
   ],
   "source": [
    "import gc\n",
    "gc.enable()\n",
    "del vectors\n",
    "gc.collect()"
   ]
  },
  {
   "cell_type": "code",
   "execution_count": 33,
   "metadata": {},
   "outputs": [],
   "source": [
    "# Normalize and convert nan to 0\n",
    "embedding_matrix = embedding_matrix / \\\n",
    "    np.linalg.norm(embedding_matrix, axis=1).reshape((-1, 1))\n",
    "embedding_matrix = np.nan_to_num(embedding_matrix)"
   ]
  },
  {
   "cell_type": "code",
   "execution_count": 34,
   "metadata": {},
   "outputs": [],
   "source": [
    "def find_closest(query, embedding_matrix, word_idx, idx_word, n=10):\n",
    "    \"\"\"Find closest words to a query word in embeddings\"\"\"\n",
    "\n",
    "    idx = word_idx.get(query, None)\n",
    "    # Handle case where query is not in vocab\n",
    "    if idx is None:\n",
    "        print(f'{query} not found in vocab.')\n",
    "        return\n",
    "    else:\n",
    "        vec = embedding_matrix[idx]\n",
    "        # Handle case where word doesn't have an embedding\n",
    "        if np.all(vec == 0):\n",
    "            print(f'{query} has no pre-trained embedding.')\n",
    "            return\n",
    "        else:\n",
    "            # Calculate distance between vector and all others\n",
    "            dists = np.dot(embedding_matrix, vec)\n",
    "\n",
    "            # Sort indexes in reverse order\n",
    "            idxs = np.argsort(dists)[::-1][:n]\n",
    "            sorted_dists = dists[idxs]\n",
    "            closest = [idx_word[i] for i in idxs]\n",
    "\n",
    "    print(f'Query: {query}\\n')\n",
    "    max_len = max([len(i) for i in closest])\n",
    "    # Print out the word and cosine distances\n",
    "    for word, dist in zip(closest, sorted_dists):\n",
    "        print(f'Word: {word:15} Cosine Similarity: {round(dist, 4)}')"
   ]
  },
  {
   "cell_type": "code",
   "execution_count": 35,
   "metadata": {},
   "outputs": [
    {
     "name": "stdout",
     "output_type": "stream",
     "text": [
      "Query: 春\n",
      "\n",
      "Word: 春               Cosine Similarity: 1.0\n",
      "Word: 富               Cosine Similarity: 0.7567\n",
      "Word: 秋               Cosine Similarity: 0.6831\n",
      "Word: 韶               Cosine Similarity: 0.6456\n",
      "Word: 大帝              Cosine Similarity: 0.632\n",
      "Word: 槎               Cosine Similarity: 0.6267\n",
      "Word: 皎               Cosine Similarity: 0.6253\n",
      "Word: 夫人              Cosine Similarity: 0.617\n",
      "Word: 稽               Cosine Similarity: 0.6146\n",
      "Word: 步               Cosine Similarity: 0.6103\n"
     ]
    }
   ],
   "source": [
    "find_closest('春', embedding_matrix, word_idx, idx_word)"
   ]
  },
  {
   "cell_type": "code",
   "execution_count": 36,
   "metadata": {},
   "outputs": [
    {
     "name": "stdout",
     "output_type": "stream",
     "text": [
      "Query: 故事\n",
      "\n",
      "Word: 故事              Cosine Similarity: 1.0\n",
      "Word: 天命              Cosine Similarity: 0.9089\n",
      "Word: 金陵              Cosine Similarity: 0.9027\n",
      "Word: 清人              Cosine Similarity: 0.901\n",
      "Word: 宗旨              Cosine Similarity: 0.8963\n",
      "Word: 擅               Cosine Similarity: 0.895\n",
      "Word: 弓               Cosine Similarity: 0.8938\n",
      "Word: 重臣              Cosine Similarity: 0.8916\n",
      "Word: 兼通              Cosine Similarity: 0.8901\n",
      "Word: 新政              Cosine Similarity: 0.8895\n"
     ]
    }
   ],
   "source": [
    "find_closest('故事', embedding_matrix, word_idx, idx_word, 10)"
   ]
  },
  {
   "cell_type": "code",
   "execution_count": 37,
   "metadata": {},
   "outputs": [
    {
     "name": "stdout",
     "output_type": "stream",
     "text": [
      "Query: 。\n",
      "\n",
      "Word: 。               Cosine Similarity: 1.0\n",
      "Word: 券               Cosine Similarity: 0.6846\n",
      "Word: 十番              Cosine Similarity: 0.6711\n",
      "Word: 载               Cosine Similarity: 0.6682\n",
      "Word: 千金              Cosine Similarity: 0.6647\n",
      "Word: 五位              Cosine Similarity: 0.6625\n",
      "Word: 踵               Cosine Similarity: 0.6609\n",
      "Word: 百家              Cosine Similarity: 0.6571\n",
      "Word: 租               Cosine Similarity: 0.6565\n",
      "Word: 石碑              Cosine Similarity: 0.6544\n"
     ]
    }
   ],
   "source": [
    "find_closest('。', embedding_matrix, word_idx, idx_word, 10)"
   ]
  },
  {
   "cell_type": "code",
   "execution_count": 38,
   "metadata": {},
   "outputs": [
    {
     "name": "stdout",
     "output_type": "stream",
     "text": [
      "電腦 not found in vocab.\n"
     ]
    }
   ],
   "source": [
    "find_closest('電腦', embedding_matrix, word_idx, idx_word)"
   ]
  },
  {
   "cell_type": "code",
   "execution_count": 39,
   "metadata": {},
   "outputs": [
    {
     "name": "stdout",
     "output_type": "stream",
     "text": [
      "运筹 has no pre-trained embedding.\n"
     ]
    }
   ],
   "source": [
    "find_closest('运筹', embedding_matrix, word_idx, idx_word)"
   ]
  },
  {
   "cell_type": "code",
   "execution_count": 40,
   "metadata": {},
   "outputs": [],
   "source": [
    "from keras.models import Sequential, load_model\n",
    "from keras.layers import LSTM, Dense, Dropout, Embedding, Masking, Bidirectional\n",
    "from keras.optimizers import Adam\n",
    "\n",
    "from keras.utils import plot_model"
   ]
  },
  {
   "cell_type": "code",
   "execution_count": 47,
   "metadata": {},
   "outputs": [
    {
     "name": "stdout",
     "output_type": "stream",
     "text": [
      "WARNING:tensorflow:From /anaconda3/lib/python3.7/site-packages/tensorflow/python/keras/backend.py:3868: add_dispatch_support.<locals>.wrapper (from tensorflow.python.ops.array_ops) is deprecated and will be removed in a future version.\n",
      "Instructions for updating:\n",
      "Use tf.where in 2.0, which has the same broadcast rule as np.where\n",
      "Model: \"sequential_1\"\n",
      "_________________________________________________________________\n",
      "Layer (type)                 Output Shape              Param #   \n",
      "=================================================================\n",
      "embedding_1 (Embedding)      (None, None, 299)         15017873  \n",
      "_________________________________________________________________\n",
      "masking_1 (Masking)          (None, None, 299)         0         \n",
      "_________________________________________________________________\n",
      "lstm_1 (LSTM)                (None, 64)                93184     \n",
      "_________________________________________________________________\n",
      "dense_1 (Dense)              (None, 128)               8320      \n",
      "_________________________________________________________________\n",
      "dropout_1 (Dropout)          (None, 128)               0         \n",
      "_________________________________________________________________\n",
      "dense_2 (Dense)              (None, 50227)             6479283   \n",
      "=================================================================\n",
      "Total params: 21,598,660\n",
      "Trainable params: 6,580,787\n",
      "Non-trainable params: 15,017,873\n",
      "_________________________________________________________________\n"
     ]
    }
   ],
   "source": [
    "def make_word_level_model(num_words,\n",
    "                          embedding_matrix,\n",
    "                          lstm_cells=64,\n",
    "                          trainable=False,\n",
    "                          lstm_layers=1,\n",
    "                          bi_direc=False):\n",
    "    \"\"\"Make a word level recurrent neural network with option for pretrained embeddings\n",
    "       and varying numbers of LSTM cell layers.\"\"\"\n",
    "\n",
    "    model = Sequential()\n",
    "\n",
    "    # Map words to an embedding\n",
    "    if not trainable:\n",
    "        model.add(\n",
    "            Embedding(\n",
    "                input_dim=num_words,\n",
    "                output_dim=embedding_matrix.shape[1],\n",
    "                weights=[embedding_matrix],\n",
    "                trainable=False,\n",
    "                mask_zero=True))\n",
    "        model.add(Masking())\n",
    "    else:\n",
    "        model.add(\n",
    "            Embedding(\n",
    "                input_dim=num_words,\n",
    "                output_dim=embedding_matrix.shape[1],\n",
    "                weights=[embedding_matrix],\n",
    "                trainable=True))\n",
    "\n",
    "    # If want to add multiple LSTM layers\n",
    "    if lstm_layers > 1:\n",
    "        for i in range(lstm_layers - 1):\n",
    "            model.add(\n",
    "                LSTM(\n",
    "                    lstm_cells,\n",
    "                    return_sequences=True,\n",
    "                    dropout=0.1,\n",
    "                    recurrent_dropout=0.1))\n",
    "\n",
    "    # Add final LSTM cell layer\n",
    "    if bi_direc:\n",
    "        model.add(\n",
    "            Bidirectional(\n",
    "                LSTM(\n",
    "                    lstm_cells,\n",
    "                    return_sequences=False,\n",
    "                    dropout=0.1,\n",
    "                    recurrent_dropout=0.1)))\n",
    "    else:\n",
    "        model.add(\n",
    "            LSTM(\n",
    "                lstm_cells,\n",
    "                return_sequences=False,\n",
    "                dropout=0.1,\n",
    "                recurrent_dropout=0.1))\n",
    "    model.add(Dense(128, activation='relu'))\n",
    "    # Dropout for regularization\n",
    "    model.add(Dropout(0.5))\n",
    "\n",
    "    # Output layer\n",
    "    model.add(Dense(num_words, activation='softmax'))\n",
    "\n",
    "    # Compile the model\n",
    "    model.compile(\n",
    "        optimizer='adam',\n",
    "        loss='categorical_crossentropy',\n",
    "        metrics=['accuracy'])\n",
    "    return model\n",
    "\n",
    "\n",
    "model = make_word_level_model(\n",
    "    num_words,\n",
    "    embedding_matrix=embedding_matrix,\n",
    "    lstm_cells=LSTM_CELLS,\n",
    "    trainable=False,\n",
    "    lstm_layers=1)\n",
    "model.summary()"
   ]
  },
  {
   "cell_type": "code",
   "execution_count": 50,
   "metadata": {},
   "outputs": [
    {
     "data": {
      "image/png": "[encoded data removed]",
      "text/plain": [
       "<IPython.core.display.Image object>"
      ]
     },
     "execution_count": 50,
     "metadata": {},
     "output_type": "execute_result"
    },
    {
     "data": {
      "image/png": "[encoded data removed]",
      "text/plain": [
       "<IPython.core.display.Image object>"
      ]
     },
     "execution_count": 50,
     "metadata": {},
     "output_type": "execute_result"
    }
   ],
   "source": [
    "import keras\n",
    "import pydot\n",
    "import pydotplus\n",
    "from keras.utils.vis_utils import model_to_dot\n",
    "keras.utils.vis_utils.pydot = pydot\n",
    "from IPython.display import Image\n",
    "model_name = 'poetry-rnn'\n",
    "model_dir = './models/'\n",
    "\n",
    "plot_model(model, to_file=f'{model_dir}{model_name}.png', show_shapes=True)\n",
    "\n",
    "Image(f'{model_dir}{model_name}.png')"
   ]
  },
  {
   "cell_type": "code",
   "execution_count": 51,
   "metadata": {},
   "outputs": [],
   "source": [
    "from keras.callbacks import EarlyStopping, ModelCheckpoint\n",
    "\n",
    "BATCH_SIZE = 2048\n",
    "\n",
    "\n",
    "def make_callbacks(model_name, save=SAVE_MODEL):\n",
    "    \"\"\"Make list of callbacks for training\"\"\"\n",
    "    callbacks = [EarlyStopping(monitor='val_loss', patience=5)]\n",
    "\n",
    "    if save:\n",
    "        callbacks.append(\n",
    "            ModelCheckpoint(\n",
    "                f'{model_dir}{model_name}.h5',\n",
    "                save_best_only=True,\n",
    "                save_weights_only=False))\n",
    "    return callbacks\n",
    "\n",
    "\n",
    "callbacks = make_callbacks(model_name)"
   ]
  },
  {
   "cell_type": "code",
   "execution_count": 275,
   "metadata": {},
   "outputs": [],
   "source": [
    "history = model.fit(\n",
    "    X_train,\n",
    "    y_train,\n",
    "    epochs=EPOCHS,\n",
    "    batch_size=BATCH_SIZE,\n",
    "    verbose=VERBOSE,\n",
    "    callbacks=callbacks,\n",
    "    validation_data=(X_valid, y_valid))"
   ]
  },
  {
   "cell_type": "code",
   "execution_count": null,
   "metadata": {},
   "outputs": [],
   "source": []
  },
  {
   "cell_type": "code",
   "execution_count": 52,
   "metadata": {},
   "outputs": [],
   "source": [
    "def load_and_evaluate(model_name, return_model=False):\n",
    "    \"\"\"Load in a trained model and evaluate with log loss and accuracy\"\"\"\n",
    "\n",
    "    model = load_model(f'{model_dir}{model_name}.h5')\n",
    "    r = model.evaluate(X_valid, y_valid, batch_size=2048, verbose=1)\n",
    "\n",
    "    valid_crossentropy = r[0]\n",
    "    valid_accuracy = r[1]\n",
    "\n",
    "    print(f'Cross Entropy: {round(valid_crossentropy, 4)}')\n",
    "    print(f'Accuracy: {round(100 * valid_accuracy, 2)}%')\n",
    "\n",
    "    if return_model:\n",
    "        return model"
   ]
  },
  {
   "cell_type": "code",
   "execution_count": 254,
   "metadata": {},
   "outputs": [
    {
     "name": "stdout",
     "output_type": "stream",
     "text": [
      "33338/33338 [==============================] - 18s 536us/step\n",
      "Cross Entropy: 7.9032\n",
      "Accuracy: 9.19%\n"
     ]
    }
   ],
   "source": [
    "model = load_and_evaluate(model_name, return_model=True)"
   ]
  },
  {
   "cell_type": "code",
   "execution_count": 276,
   "metadata": {},
   "outputs": [],
   "source": [
    "np.random.seed(40)\n",
    "\n",
    "# Number of all words\n",
    "total_words = sum(word_counts.values())\n",
    "\n",
    "# Compute frequency of each word in vocab\n",
    "frequencies = [word_counts[word] / total_words for word in word_idx.keys()]\n",
    "frequencies.insert(0, 0)"
   ]
  },
  {
   "cell_type": "code",
   "execution_count": 277,
   "metadata": {},
   "outputs": [
    {
     "data": {
      "text/plain": [
       "([0.08244879152180287,\n",
       "  0.08134712855527164,\n",
       "  0.00343903154190927,\n",
       "  0.0030704142755414066,\n",
       "  0.0028651614794956647,\n",
       "  0.0027143635068906297,\n",
       "  0.0025719431994303188,\n",
       "  0.0025593767017132326,\n",
       "  0.002421145226825284],\n",
       " ['，', '。', '一', '有', '不', '无', '来', '人', '为'])"
      ]
     },
     "execution_count": 277,
     "metadata": {},
     "output_type": "execute_result"
    }
   ],
   "source": [
    "frequencies[1:10], list(word_idx.keys())[0:9]"
   ]
  },
  {
   "cell_type": "code",
   "execution_count": 278,
   "metadata": {},
   "outputs": [
    {
     "name": "stdout",
     "output_type": "stream",
     "text": [
      "The accuracy is 7.8409%.\n"
     ]
    }
   ],
   "source": [
    "print(\n",
    "    f'The accuracy is {round(100 * np.mean(np.argmax(y_valid, axis = 1) == 1), 4)}%.'\n",
    ")"
   ]
  },
  {
   "cell_type": "code",
   "execution_count": 279,
   "metadata": {},
   "outputs": [],
   "source": [
    "random_guesses = []\n",
    "\n",
    "# Make a prediction based on frequencies for each example in validation data\n",
    "for i in range(len(y_valid)):\n",
    "    random_guesses.append(\n",
    "        np.argmax(np.random.multinomial(1, frequencies, size=1)[0]))"
   ]
  },
  {
   "cell_type": "code",
   "execution_count": 280,
   "metadata": {},
   "outputs": [
    {
     "name": "stdout",
     "output_type": "stream",
     "text": [
      "Word: 。 \tCount: 19420 \tPercentage: 8.13% \tPredicted: 2791\n",
      "Word: ， \tCount: 19683 \tPercentage: 8.24% \tPredicted: 2778\n",
      "Word: 一 \tCount: 821 \tPercentage: 0.34% \tPredicted: 121\n",
      "Word: 云 \tCount: 572 \tPercentage: 0.24% \tPredicted: 104\n",
      "Word: 有 \tCount: 733 \tPercentage: 0.31% \tPredicted: 103\n",
      "Word: 为 \tCount: 578 \tPercentage: 0.24% \tPredicted: 92\n",
      "Word: 无 \tCount: 648 \tPercentage: 0.27% \tPredicted: 87\n",
      "Word: 风 \tCount: 546 \tPercentage: 0.23% \tPredicted: 85\n",
      "Word: 人 \tCount: 611 \tPercentage: 0.26% \tPredicted: 83\n",
      "Word: 不 \tCount: 684 \tPercentage: 0.29% \tPredicted: 78\n"
     ]
    }
   ],
   "source": [
    "from collections import Counter\n",
    "\n",
    "# Create a counter from the guesses\n",
    "c = Counter(random_guesses)\n",
    "\n",
    "# Iterate through the 10 most common guesses\n",
    "for i in c.most_common(10):\n",
    "    word = idx_word[i[0]]\n",
    "    word_count = word_counts[word]\n",
    "    print(\n",
    "        f'Word: {word} \\tCount: {word_count} \\tPercentage: {round(100 * word_count / total_words, 2)}% \\tPredicted: {i[1]}'\n",
    "    )"
   ]
  },
  {
   "cell_type": "code",
   "execution_count": 281,
   "metadata": {},
   "outputs": [
    {
     "name": "stdout",
     "output_type": "stream",
     "text": [
      "Random guessing accuracy: 1.55%\n"
     ]
    }
   ],
   "source": [
    "accuracy = np.mean(random_guesses == np.argmax(y_valid, axis=1))\n",
    "print(f'Random guessing accuracy: {100 * round(accuracy, 4)}%')"
   ]
  },
  {
   "cell_type": "code",
   "execution_count": null,
   "metadata": {},
   "outputs": [],
   "source": []
  },
  {
   "cell_type": "code",
   "execution_count": 63,
   "metadata": {},
   "outputs": [],
   "source": [
    "from IPython.display import HTML\n",
    "\n",
    "\n",
    "def header(text, color='black'):\n",
    "    raw_html = f'<h1 style=\"color: {color};\"><center>' + \\\n",
    "        str(text) + '</center></h1>'\n",
    "    return raw_html\n",
    "\n",
    "\n",
    "def box(text):\n",
    "    raw_html = '<div style=\"border:1px inset black;padding:1em;font-size: 20px;\">' + \\\n",
    "        str(text)+'</div>'\n",
    "    return raw_html\n",
    "\n",
    "\n",
    "def addContent(old_html, raw_html):\n",
    "    old_html += raw_html\n",
    "    return old_html"
   ]
  },
  {
   "cell_type": "code",
   "execution_count": 333,
   "metadata": {},
   "outputs": [],
   "source": [
    "import random\n",
    "\n",
    "\n",
    "def generate_output(model,\n",
    "                    sequences,\n",
    "                    training_length=25,\n",
    "                    new_words=50,\n",
    "                    diversity=1,\n",
    "                    return_output=False,\n",
    "                    n_gen=1):\n",
    "    \"\"\"Generate `new_words` words of output from a trained model and format into HTML.\"\"\"\n",
    "\n",
    "    # Choose a random sequence\n",
    "    seq = random.choice(sequences)\n",
    "\n",
    "    # Choose a random starting point\n",
    "    seed_idx = random.randint(0, len(seq) - training_length - 10)\n",
    "    # Ending index for seed\n",
    "    end_idx = seed_idx + training_length\n",
    "\n",
    "    gen_list = []\n",
    "\n",
    "    for n in range(n_gen):\n",
    "        # Extract the seed sequence\n",
    "        seed = seq[seed_idx:end_idx]\n",
    "        original_sequence = [idx_word[i] for i in seed]\n",
    "        generated = seed[:] + ['#']\n",
    "\n",
    "        # Find the actual entire sequence\n",
    "        actual = generated[:] + seq[end_idx:end_idx + new_words]\n",
    "\n",
    "        # Keep adding new words\n",
    "        for i in range(new_words):\n",
    "\n",
    "            # Make a prediction from the seed\n",
    "            preds = model.predict(np.array(seed).reshape(1, -1))[0].astype(\n",
    "                np.float64)\n",
    "\n",
    "            # Diversify\n",
    "            preds = np.log(preds) / diversity\n",
    "            exp_preds = np.exp(preds)\n",
    "\n",
    "            # Softmax\n",
    "            preds = exp_preds / sum(exp_preds)\n",
    "\n",
    "            # Choose the next word\n",
    "            probas = np.random.multinomial(1, preds, 1)[0]\n",
    "\n",
    "            next_idx = np.argmax(probas)\n",
    "\n",
    "            # New seed adds on old word\n",
    "            seed = seed[1:] + [next_idx]\n",
    "            generated.append(next_idx)\n",
    "\n",
    "        # Showing generated and actual abstract\n",
    "        n = []\n",
    "\n",
    "        for i in generated:\n",
    "            n.append(idx_word.get(i, '< --- >'))\n",
    "\n",
    "        gen_list.append(n)\n",
    "\n",
    "    a = []\n",
    "\n",
    "    for i in actual:\n",
    "        a.append(idx_word.get(i, '< --- >'))\n",
    "\n",
    "    a = a[training_length:]\n",
    "\n",
    "    gen_list = [\n",
    "        gen[training_length:training_length + len(a)] for gen in gen_list\n",
    "    ]\n",
    "\n",
    "    if return_output:\n",
    "        return original_sequence, gen_list, a\n",
    "\n",
    "    # HTML formatting\n",
    "    seed_html = ''\n",
    "    seed_html = addContent(seed_html, header(\n",
    "        'Seed Sequence', color='darkblue'))\n",
    "    seed_html = addContent(seed_html,\n",
    "                           box(remove_spaces(' '.join(original_sequence))))\n",
    "\n",
    "    gen_html = ''\n",
    "    gen_html = addContent(gen_html, header('RNN Generated', color='darkred'))\n",
    "    gen_html = addContent(gen_html, box(remove_spaces(' '.join(gen_list[0]))))\n",
    "\n",
    "    a_html = ''\n",
    "    a_html = addContent(a_html, header('Actual', color='darkgreen'))\n",
    "    a_html = addContent(a_html, box(remove_spaces(' '.join(a))))\n",
    "\n",
    "    return seed_html, gen_html, a_html"
   ]
  },
  {
   "cell_type": "code",
   "execution_count": 284,
   "metadata": {},
   "outputs": [
    {
     "data": {
      "text/html": [
       "<h1 style=\"color: darkblue;\"><center>Seed Sequence</center></h1><div style=\"border:1px inset black;padding:1em;font-size: 20px;\">才 犹 刚 决 节 尤 坚， 和议 连番 总 不然。 百计 筹谋 惟 报国， 一时 流寓 况 名 贤。 便</div>"
      ],
      "text/plain": [
       "<IPython.core.display.HTML object>"
      ]
     },
     "execution_count": 284,
     "metadata": {},
     "output_type": "execute_result"
    },
    {
     "data": {
      "text/html": [
       "<h1 style=\"color: darkred;\"><center>RNN Generated</center></h1><div style=\"border:1px inset black;padding:1em;font-size: 20px;\">< --- > 不费。 港 仰止 尊 发 蛟。 食， 炙 生。 矢 论 方 主 尘海 一 筒 前 之 勿，</div>"
      ],
      "text/plain": [
       "<IPython.core.display.HTML object>"
      ]
     },
     "execution_count": 284,
     "metadata": {},
     "output_type": "execute_result"
    },
    {
     "data": {
      "text/html": [
       "<h1 style=\"color: darkgreen;\"><center>Actual</center></h1><div style=\"border:1px inset black;padding:1em;font-size: 20px;\">< --- > 教 藩 服 能成 成事， 其 奈 微 躯 不 永年。 史册 流芳 终有 分， 漫 将 遗恨 播 诗篇。</div>"
      ],
      "text/plain": [
       "<IPython.core.display.HTML object>"
      ]
     },
     "execution_count": 284,
     "metadata": {},
     "output_type": "execute_result"
    }
   ],
   "source": [
    "seed_html, gen_html, a_html = generate_output(model, sequences,\n",
    "                                              TRAINING_LENGTH)\n",
    "HTML(seed_html)\n",
    "HTML(gen_html)\n",
    "HTML(a_html)"
   ]
  },
  {
   "cell_type": "code",
   "execution_count": 285,
   "metadata": {},
   "outputs": [
    {
     "data": {
      "text/html": [
       "<h1 style=\"color: darkblue;\"><center>Seed Sequence</center></h1><div style=\"border:1px inset black;padding:1em;font-size: 20px;\">生成 那 得 移， 而今 还是 旧 心 期。 忌 医 十载 载人 夸 健， 止 酒 三天 自 笑 奇。</div>"
      ],
      "text/plain": [
       "<IPython.core.display.HTML object>"
      ]
     },
     "execution_count": 285,
     "metadata": {},
     "output_type": "execute_result"
    },
    {
     "data": {
      "text/html": [
       "<h1 style=\"color: darkred;\"><center>RNN Generated</center></h1><div style=\"border:1px inset black;padding:1em;font-size: 20px;\">< --- > 恩 喧。 一时 翻 击鼓， 续 千， 儿 一 懒 租税 工 去 龙 孰能 展 编贝 官，。 石 涛 荷兰 香</div>"
      ],
      "text/plain": [
       "<IPython.core.display.HTML object>"
      ]
     },
     "execution_count": 285,
     "metadata": {},
     "output_type": "execute_result"
    },
    {
     "data": {
      "text/html": [
       "<h1 style=\"color: darkgreen;\"><center>Actual</center></h1><div style=\"border:1px inset black;padding:1em;font-size: 20px;\">< --- > 欲 寄相思 相思 凭 尺素， 未能 未能免俗 能免 免俗 俗事 毛 锥。 深 惭 何以 酬 明 圣， 万里 徒 赢 两鬓 丝。</div>"
      ],
      "text/plain": [
       "<IPython.core.display.HTML object>"
      ]
     },
     "execution_count": 285,
     "metadata": {},
     "output_type": "execute_result"
    }
   ],
   "source": [
    "seed_html, gen_html, a_html = generate_output(\n",
    "    model, sequences, TRAINING_LENGTH, diversity=1)\n",
    "HTML(seed_html)\n",
    "HTML(gen_html)\n",
    "HTML(a_html)"
   ]
  },
  {
   "cell_type": "code",
   "execution_count": 340,
   "metadata": {},
   "outputs": [
    {
     "data": {
      "text/html": [
       "<h1 style=\"color: darkblue;\"><center>Seed Sequence</center></h1><div style=\"border:1px inset black;padding:1em;font-size: 20px;\">休 论 学， 才 非 八斗 莫</div>"
      ],
      "text/plain": [
       "<IPython.core.display.HTML object>"
      ]
     },
     "execution_count": 340,
     "metadata": {},
     "output_type": "execute_result"
    },
    {
     "data": {
      "text/html": [
       "<h1 style=\"color: darkred;\"><center>RNN Generated</center></h1><div style=\"border:1px inset black;padding:1em;font-size: 20px;\">< --- >。 泛海 觏 难， 宋 圣主 与 如何 渐 清 如， 遗民 灵 清 代 以 所， 真， 不 如 躬 先 轩。 直 传， 偿 未降 颜 闭门 干城 自因 飓 民风</div>"
      ],
      "text/plain": [
       "<IPython.core.display.HTML object>"
      ]
     },
     "execution_count": 340,
     "metadata": {},
     "output_type": "execute_result"
    },
    {
     "data": {
      "text/html": [
       "<h1 style=\"color: darkgreen;\"><center>Actual</center></h1><div style=\"border:1px inset black;padding:1em;font-size: 20px;\">< --- > 吟诗。 入 青莲 室 门 何在， 登 浣 花 堂 路 未知。 呕出 心肝 方 稳练， 放开 放开手 手眼 始 神奇。 个 中 犹有 真 消息， 欲 辩 忘言 请 自 思。</div>"
      ],
      "text/plain": [
       "<IPython.core.display.HTML object>"
      ]
     },
     "execution_count": 340,
     "metadata": {},
     "output_type": "execute_result"
    }
   ],
   "source": [
    "seed_html, gen_html, a_html = generate_output(\n",
    "    model, sequences, training_length=8, new_words=64, diversity=0.8)\n",
    "HTML(seed_html)\n",
    "HTML(gen_html)\n",
    "HTML(a_html)"
   ]
  },
  {
   "cell_type": "code",
   "execution_count": 347,
   "metadata": {},
   "outputs": [
    {
     "data": {
      "text/html": [
       "<h1 style=\"color: darkblue;\"><center>Seed Sequence</center></h1><div style=\"border:1px inset black;padding:1em;font-size: 20px;\">求， 翻 遭 闭 籴 误。</div>"
      ],
      "text/plain": [
       "<IPython.core.display.HTML object>"
      ]
     },
     "execution_count": 347,
     "metadata": {},
     "output_type": "execute_result"
    },
    {
     "data": {
      "text/html": [
       "<h1 style=\"color: darkred;\"><center>RNN Generated</center></h1><div style=\"border:1px inset black;padding:1em;font-size: 20px;\">< --- > 马上 钧 溥 盗贼 飞云 远 盈 坊 再造。 硫磺 天花 冲冠发怒 发于 不知 栎 十幅 余粮 相习 励 下任 苏州 正 蘸 听歌 六十四 鬵 裕 鵔 及时雨 窣 午 领 部署 天地 录 官 三十六 映。 高堂 来作 澄清 食 逢场竿木 嬿 退 醉 崎岖 会 迷离 骊 落落 上田 消 把 更上一层 金丝 御 邪说 小 足。 祸</div>"
      ],
      "text/plain": [
       "<IPython.core.display.HTML object>"
      ]
     },
     "execution_count": 347,
     "metadata": {},
     "output_type": "execute_result"
    },
    {
     "data": {
      "text/html": [
       "<h1 style=\"color: darkgreen;\"><center>Actual</center></h1><div style=\"border:1px inset black;padding:1em;font-size: 20px;\">< --- > 一粒 一 酸辛， 负 挈 满 道路。 吁 嗟 中泽 鸿， 几 为 涸 辙 鲋。 贤 哉 良 司 牧， 下车 询 农务。 丰 歉 递 相 寻， 灾 祲 亦 定数。 胡 兹 孤岛 黔， 奈何 抱 沉 痼。 圣 世 宏 宽仁， 轻 徭 复 薄 赋。 无如 瘠</div>"
      ],
      "text/plain": [
       "<IPython.core.display.HTML object>"
      ]
     },
     "execution_count": 347,
     "metadata": {},
     "output_type": "execute_result"
    }
   ],
   "source": [
    "seed_html, gen_html, a_html = generate_output(\n",
    "    model, sequences, training_length=8, new_words=64, diversity=0.9)\n",
    "HTML(seed_html)\n",
    "HTML(gen_html)\n",
    "HTML(a_html)"
   ]
  },
  {
   "cell_type": "code",
   "execution_count": null,
   "metadata": {},
   "outputs": [],
   "source": []
  },
  {
   "cell_type": "code",
   "execution_count": null,
   "metadata": {},
   "outputs": [],
   "source": []
  },
  {
   "cell_type": "code",
   "execution_count": 53,
   "metadata": {},
   "outputs": [],
   "source": [
    "def clear_memory():\n",
    "    import gc\n",
    "    gc.enable()\n",
    "    for i in [\n",
    "            'model', 'X', 'y', 'word_idx', 'idx_word', 'X_train', 'X_valid,'\n",
    "            'y_train', 'y_valid', 'embedding_matrix', 'words', 'vectors',\n",
    "            'labels', 'random_guesses', 'training_seq', 'word_counts', 'data',\n",
    "            'frequencies'\n",
    "    ]:\n",
    "        if i in dir():\n",
    "            del globals()[i]\n",
    "    gc.collect()\n",
    "\n",
    "\n",
    "clear_memory()"
   ]
  },
  {
   "cell_type": "code",
   "execution_count": 54,
   "metadata": {},
   "outputs": [
    {
     "name": "stdout",
     "output_type": "stream",
     "text": [
      "There are 50227 unique words.\n",
      "There are 1301889 training sequences.\n"
     ]
    }
   ],
   "source": [
    "TRAINING_LENGTH = 25\n",
    "\n",
    "filters = '!\"%;[\\\\]^_`{|}~\\t\\n'\n",
    "word_idx, idx_word, num_words, word_counts, abstracts, sequences, features, labels = make_sequences(\n",
    "    formatted, TRAINING_LENGTH, lower=False, filters=filters)"
   ]
  },
  {
   "cell_type": "code",
   "execution_count": 55,
   "metadata": {},
   "outputs": [
    {
     "name": "stdout",
     "output_type": "stream",
     "text": [
      "There were 46406 words without pre-trained embeddings.\n"
     ]
    },
    {
     "data": {
      "text/plain": [
       "(50227, 299)"
      ]
     },
     "execution_count": 55,
     "metadata": {},
     "output_type": "execute_result"
    }
   ],
   "source": [
    "embedding_matrix = np.zeros((num_words, len(word_lookup['the'])))\n",
    "\n",
    "not_found = 0\n",
    "\n",
    "for i, word in enumerate(word_idx.keys()):\n",
    "    # Look up the word embedding\n",
    "    vector = word_lookup.get(word, None)\n",
    "\n",
    "    # Record in matrix\n",
    "    if vector is not None:\n",
    "        embedding_matrix[i + 1, :] = vector\n",
    "    else:\n",
    "        not_found += 1\n",
    "\n",
    "print(f'There were {not_found} words without pre-trained embeddings.')\n",
    "embedding_matrix.shape"
   ]
  },
  {
   "cell_type": "code",
   "execution_count": 56,
   "metadata": {},
   "outputs": [
    {
     "data": {
      "text/plain": [
       "((911322, 25), (911322, 50227))"
      ]
     },
     "execution_count": 56,
     "metadata": {},
     "output_type": "execute_result"
    }
   ],
   "source": [
    "# Split into training and validation\n",
    "X_train, X_valid, y_train, y_valid = create_train_valid(\n",
    "    features, labels, num_words)\n",
    "X_train.shape, y_train.shape"
   ]
  },
  {
   "cell_type": "code",
   "execution_count": 57,
   "metadata": {},
   "outputs": [
    {
     "name": "stdout",
     "output_type": "stream",
     "text": [
      "Object: y_train   \tSize: 45.772970206 GB.\n",
      "Object: y_valid   \tSize: 19.617008821 GB.\n"
     ]
    }
   ],
   "source": [
    "check_sizes(gb_min=1)"
   ]
  },
  {
   "cell_type": "code",
   "execution_count": 58,
   "metadata": {},
   "outputs": [
    {
     "name": "stdout",
     "output_type": "stream",
     "text": [
      "Model: \"sequential_3\"\n",
      "_________________________________________________________________\n",
      "Layer (type)                 Output Shape              Param #   \n",
      "=================================================================\n",
      "embedding_3 (Embedding)      (None, None, 299)         15017873  \n",
      "_________________________________________________________________\n",
      "lstm_3 (LSTM)                (None, 64)                93184     \n",
      "_________________________________________________________________\n",
      "dense_5 (Dense)              (None, 128)               8320      \n",
      "_________________________________________________________________\n",
      "dropout_3 (Dropout)          (None, 128)               0         \n",
      "_________________________________________________________________\n",
      "dense_6 (Dense)              (None, 50227)             6479283   \n",
      "=================================================================\n",
      "Total params: 21,598,660\n",
      "Trainable params: 21,598,660\n",
      "Non-trainable params: 0\n",
      "_________________________________________________________________\n"
     ]
    }
   ],
   "source": [
    "model = make_word_level_model(\n",
    "    num_words,\n",
    "    embedding_matrix,\n",
    "    lstm_cells=LSTM_CELLS,\n",
    "    trainable=True,\n",
    "    lstm_layers=1)\n",
    "model.summary()"
   ]
  },
  {
   "cell_type": "code",
   "execution_count": 59,
   "metadata": {},
   "outputs": [],
   "source": [
    "model_name = 'train-embeddings-rnn_qts'\n",
    "\n",
    "callbacks = make_callbacks(model_name)"
   ]
  },
  {
   "cell_type": "code",
   "execution_count": null,
   "metadata": {},
   "outputs": [
    {
     "name": "stderr",
     "output_type": "stream",
     "text": [
      "/anaconda3/lib/python3.7/site-packages/tensorflow/python/framework/indexed_slices.py:414: UserWarning: Converting sparse IndexedSlices to a dense Tensor of unknown shape. This may consume a large amount of memory.\n",
      "  \"Converting sparse IndexedSlices to a dense Tensor of unknown shape. \"\n"
     ]
    }
   ],
   "source": [
    "model.compile(\n",
    "    optimizer=Adam(), loss='categorical_crossentropy', metrics=['accuracy'])\n",
    "\n",
    "history = model.fit(\n",
    "    X_train,\n",
    "    y_train,\n",
    "    batch_size=BATCH_SIZE,\n",
    "    verbose=VERBOSE,\n",
    "    epochs=EPOCHS,\n",
    "    callbacks=callbacks,\n",
    "    validation_data=(X_valid, y_valid))"
   ]
  },
  {
   "cell_type": "code",
   "execution_count": 60,
   "metadata": {},
   "outputs": [
    {
     "name": "stderr",
     "output_type": "stream",
     "text": [
      "/anaconda3/lib/python3.7/site-packages/tensorflow/python/framework/indexed_slices.py:414: UserWarning: Converting sparse IndexedSlices to a dense Tensor of unknown shape. This may consume a large amount of memory.\n",
      "  \"Converting sparse IndexedSlices to a dense Tensor of unknown shape. \"\n"
     ]
    },
    {
     "name": "stdout",
     "output_type": "stream",
     "text": [
      "390567/390567 [==============================] - 379s 971us/step\n",
      "Cross Entropy: 6.7363\n",
      "Accuracy: 18.97%\n"
     ]
    }
   ],
   "source": [
    "model = load_and_evaluate(model_name, return_model=True)"
   ]
  },
  {
   "cell_type": "code",
   "execution_count": 357,
   "metadata": {},
   "outputs": [
    {
     "data": {
      "text/html": [
       "<h1 style=\"color: darkblue;\"><center>Seed Sequence</center></h1><div style=\"border:1px inset black;padding:1em;font-size: 20px;\">鸡 唤醒 金乌 鸟， 玉女 擎 出</div>"
      ],
      "text/plain": [
       "<IPython.core.display.HTML object>"
      ]
     },
     "execution_count": 357,
     "metadata": {},
     "output_type": "execute_result"
    },
    {
     "data": {
      "text/html": [
       "<h1 style=\"color: darkred;\"><center>RNN Generated</center></h1><div style=\"border:1px inset black;padding:1em;font-size: 20px;\">< --- > 开 交 荧荧， 象， 纵 有 若， 俾 空 荷 自 灰。 日 蒪 询 何日。 亦。 自 风波 闭门， 不留 苛政</div>"
      ],
      "text/plain": [
       "<IPython.core.display.HTML object>"
      ]
     },
     "execution_count": 357,
     "metadata": {},
     "output_type": "execute_result"
    },
    {
     "data": {
      "text/html": [
       "<h1 style=\"color: darkgreen;\"><center>Actual</center></h1><div style=\"border:1px inset black;padding:1em;font-size: 20px;\">< --- > 青 芙蓉。 混沌 混沌初开 早 世界， 盘古 四顾 四顾无人 无人 踪。 我 来 扶杖 入 烟 翠， 口 嚼 飞 霞 如 酒 浓。</div>"
      ],
      "text/plain": [
       "<IPython.core.display.HTML object>"
      ]
     },
     "execution_count": 357,
     "metadata": {},
     "output_type": "execute_result"
    }
   ],
   "source": [
    "seed_html, gen_html, a_html = generate_output(\n",
    "    model, sequences, training_length=8, new_words=64, diversity=0.9)\n",
    "HTML(seed_html)\n",
    "HTML(gen_html)\n",
    "HTML(a_html)"
   ]
  },
  {
   "cell_type": "code",
   "execution_count": 376,
   "metadata": {},
   "outputs": [
    {
     "data": {
      "text/html": [
       "<h1 style=\"color: darkblue;\"><center>Seed Sequence</center></h1><div style=\"border:1px inset black;padding:1em;font-size: 20px;\">溪 鸟散， 山 横</div>"
      ],
      "text/plain": [
       "<IPython.core.display.HTML object>"
      ]
     },
     "execution_count": 376,
     "metadata": {},
     "output_type": "execute_result"
    },
    {
     "data": {
      "text/html": [
       "<h1 style=\"color: darkred;\"><center>RNN Generated</center></h1><div style=\"border:1px inset black;padding:1em;font-size: 20px;\">< --- > 关山迢递 豆 去岁 良人 安澜 瘴 日月 循序渐进 玉龙 带 航 不合时宜 膻 日月 丛</div>"
      ],
      "text/plain": [
       "<IPython.core.display.HTML object>"
      ]
     },
     "execution_count": 376,
     "metadata": {},
     "output_type": "execute_result"
    },
    {
     "data": {
      "text/html": [
       "<h1 style=\"color: darkgreen;\"><center>Actual</center></h1><div style=\"border:1px inset black;padding:1em;font-size: 20px;\">< --- > 黯淡 野人 归。 乡村 扰扰 何时 靖， 万马 频 嘶 未 解围。</div>"
      ],
      "text/plain": [
       "<IPython.core.display.HTML object>"
      ]
     },
     "execution_count": 376,
     "metadata": {},
     "output_type": "execute_result"
    }
   ],
   "source": [
    "seed_html, gen_html, a_html = generate_output(\n",
    "    model, sequences, training_length=5, new_words=25, diversity=1.25)\n",
    "HTML(seed_html)\n",
    "HTML(gen_html)\n",
    "HTML(a_html)"
   ]
  },
  {
   "cell_type": "code",
   "execution_count": 385,
   "metadata": {},
   "outputs": [
    {
     "data": {
      "text/html": [
       "<h1 style=\"color: darkblue;\"><center>Seed Sequence</center></h1><div style=\"border:1px inset black;padding:1em;font-size: 20px;\">人家 溷 厕 间，</div>"
      ],
      "text/plain": [
       "<IPython.core.display.HTML object>"
      ]
     },
     "execution_count": 385,
     "metadata": {},
     "output_type": "execute_result"
    },
    {
     "data": {
      "text/html": [
       "<h1 style=\"color: darkred;\"><center>RNN Generated</center></h1><div style=\"border:1px inset black;padding:1em;font-size: 20px;\">< --- > 猬。 赤 玉 闲 指 而 耳目。 池鱼 关怀 十二 机关 带 渐低 巡 溢 太平 百尺 故 尧 异乡 日 几回 香 期 存 招 景 骑 躯 东 翼 得 怆 朝日 亘 于 帷 璧 茨 溯。 必 怨 倏忽 天 年来 赴 逢 频， 有感 贫， 曩 中丞 纤悉 不使 景色 儿 酒宴 酣， 联 三千 遥 不平 鲲 属 是 兕 亡 宵 已。 肯 地下 除 相思 万里 夕 与 长亭 一筹 陷入 驾</div>"
      ],
      "text/plain": [
       "<IPython.core.display.HTML object>"
      ]
     },
     "execution_count": 385,
     "metadata": {},
     "output_type": "execute_result"
    },
    {
     "data": {
      "text/html": [
       "<h1 style=\"color: darkgreen;\"><center>Actual</center></h1><div style=\"border:1px inset black;padding:1em;font-size: 20px;\">< --- > 牛 栅 鸡 栖 恣 狼籍。 世人 但 羡 出水 赤， 石 上 蟠 根 多 不识。 故 将 本色 示人 人间， 任 使 看 朱 乱成 碧。 颇 闻 此 树 含 毒 浆， 樊 圃 可 止 狂 夫 狂。 愿 金 如 粟 马 如 羊， 使君 归去 垂 空 囊。 明珠 薏苡 多 谤 伤， 安 用 绿 玉 枝 交相。 酒 酣 起舞 铁 如意， 七尺 珊瑚 等闲 碎。</div>"
      ],
      "text/plain": [
       "<IPython.core.display.HTML object>"
      ]
     },
     "execution_count": 385,
     "metadata": {},
     "output_type": "execute_result"
    }
   ],
   "source": [
    "seed_html, gen_html, a_html = generate_output(\n",
    "    model, sequences, training_length=5, new_words=100, diversity=1)\n",
    "HTML(seed_html)\n",
    "HTML(gen_html)\n",
    "HTML(a_html)"
   ]
  },
  {
   "cell_type": "code",
   "execution_count": 409,
   "metadata": {},
   "outputs": [],
   "source": [
    "training_length = 5\n",
    "new_texts = formatted\n",
    "new_texts.append(format_poem(original_poems[100]))\n",
    "\n",
    "# Create the tokenizer object and train on texts\n",
    "filters = '!\"%;[\\\\]^_`{|}~\\t\\n'\n",
    "tokenizer = Tokenizer(lower=False, filters=filters)\n",
    "tokenizer.fit_on_texts(new_texts)\n",
    "\n",
    "# Create look-up dictionaries and reverse look-ups\n",
    "#word_idx = tokenizer.word_index\n",
    "#idx_word = tokenizer.index_word\n",
    "#num_words = len(word_idx) + 1\n",
    "#word_counts = tokenizer.word_counts\n",
    "#print(f'There are {num_words} unique words.')\n",
    "\n",
    "# Convert text to sequences of integers\n",
    "new_sequences = tokenizer.texts_to_sequences(new_texts)\n",
    "\n",
    "# Choose a random sequence\n",
    "seq = sequences[-1]\n",
    "\n",
    "# Choose a random starting point\n",
    "seed_idx = 0\n",
    "\n",
    "# Ending index for seed\n",
    "if len(seq) > training_length:\n",
    "    end_idx = training_length\n",
    "else:\n",
    "    end_idx = -1"
   ]
  },
  {
   "cell_type": "code",
   "execution_count": 411,
   "metadata": {
    "scrolled": true
   },
   "outputs": [
    {
     "data": {
      "text/plain": [
       "[2031,\n",
       " 13109,\n",
       " 235,\n",
       " 57,\n",
       " 995,\n",
       " 1,\n",
       " 12846,\n",
       " 41,\n",
       " 293,\n",
       " 1222,\n",
       " 9424,\n",
       " 2,\n",
       " 461,\n",
       " 4985,\n",
       " 1288,\n",
       " 664,\n",
       " 11873,\n",
       " 1,\n",
       " 2770,\n",
       " 425,\n",
       " 1437,\n",
       " 9473,\n",
       " 2,\n",
       " 2386,\n",
       " 877,\n",
       " 85,\n",
       " 620,\n",
       " 79,\n",
       " 6154,\n",
       " 1,\n",
       " 2421,\n",
       " 9461,\n",
       " 7069,\n",
       " 5,\n",
       " 772,\n",
       " 284,\n",
       " 2,\n",
       " 25,\n",
       " 24,\n",
       " 1120,\n",
       " 803,\n",
       " 3300,\n",
       " 206,\n",
       " 1,\n",
       " 13,\n",
       " 669,\n",
       " 1144,\n",
       " 478,\n",
       " 305,\n",
       " 2681,\n",
       " 2]"
      ]
     },
     "execution_count": 411,
     "metadata": {},
     "output_type": "execute_result"
    }
   ],
   "source": [
    "seq"
   ]
  },
  {
   "cell_type": "code",
   "execution_count": 64,
   "metadata": {},
   "outputs": [],
   "source": [
    "import random\n",
    "\n",
    "\n",
    "def generate_output(model,\n",
    "                    sequences,\n",
    "                    prompt,\n",
    "                    texts=formatted,\n",
    "                    flag=1,\n",
    "                    training_length=5,\n",
    "                    new_words=50,\n",
    "                    diversity=1,\n",
    "                    return_output=False,\n",
    "                    n_gen=1):\n",
    "    \"\"\"Generate `new_words` words of output from a trained model and format into HTML.\"\"\"\n",
    "    \n",
    "    if flag:\n",
    "        new_texts = formatted\n",
    "        new_texts.append(format_poem(prompt))\n",
    "        \n",
    "        # Create the tokenizer object and train on texts\n",
    "        filters = '!\"%;[\\\\]^_`{|}~\\t\\n'\n",
    "        tokenizer = Tokenizer(lower=False, filters=filters)\n",
    "        tokenizer.fit_on_texts(new_texts)\n",
    "        \n",
    "        # Convert text to sequences of integers\n",
    "        new_sequences = tokenizer.texts_to_sequences(new_texts)\n",
    "        \n",
    "        # Create look-up dictionaries and reverse look-ups\n",
    "        word_idx = tokenizer.word_index\n",
    "        idx_word = tokenizer.index_word\n",
    "        num_words = len(word_idx) + 1\n",
    "        word_counts = tokenizer.word_counts\n",
    "        print(f'There are {num_words} unique words.')\n",
    "\n",
    "        # Choose a random sequence\n",
    "        seq = new_sequences[-1]\n",
    "        print(len(new_texts))\n",
    "        print(new_texts[-1])\n",
    "        print(len(new_sequences))\n",
    "        print(new_sequences[-1])\n",
    "        \n",
    "        # Choose a random starting point\n",
    "        seed_idx = 0\n",
    "        \n",
    "        # Ending index for seed\n",
    "        if len(seq) > training_length:\n",
    "            end_idx = training_length\n",
    "        else:\n",
    "            end_idx = -1\n",
    "    else:\n",
    "        # Choose a random sequence\n",
    "        seq = random.choice(sequences)\n",
    "\n",
    "        # Choose a random starting point\n",
    "        seed_idx = random.randint(0, len(seq) - training_length - 10)\n",
    "        # Ending index for seed\n",
    "        end_idx = seed_idx + training_length\n",
    "\n",
    "    gen_list = []\n",
    "\n",
    "    for n in range(n_gen):\n",
    "        # Extract the seed sequence\n",
    "        seed = seq[seed_idx:end_idx]\n",
    "        original_sequence = [idx_word[i] for i in seed]\n",
    "        generated = seed[:] + ['#']\n",
    "\n",
    "        # Find the actual entire sequence\n",
    "        actual = generated[:] + seq[end_idx:end_idx + new_words]\n",
    "\n",
    "        # Keep adding new words\n",
    "        for i in range(new_words):\n",
    "\n",
    "            # Make a prediction from the seed\n",
    "            preds = model.predict(np.array(seed).reshape(1, -1))[0].astype(\n",
    "                np.float64)\n",
    "\n",
    "            # Diversify\n",
    "            preds = np.log(preds) / diversity\n",
    "            exp_preds = np.exp(preds)\n",
    "\n",
    "            # Softmax\n",
    "            preds = exp_preds / sum(exp_preds)\n",
    "\n",
    "            # Choose the next word\n",
    "            probas = np.random.multinomial(1, preds, 1)[0]\n",
    "\n",
    "            next_idx = np.argmax(probas)\n",
    "\n",
    "            # New seed adds on old word\n",
    "            seed = seed[1:] + [next_idx]\n",
    "            generated.append(next_idx)\n",
    "\n",
    "        # Showing generated and actual abstract\n",
    "        n = []\n",
    "\n",
    "        for i in generated:\n",
    "            n.append(idx_word.get(i, '< --- >'))\n",
    "\n",
    "        gen_list.append(n)\n",
    "\n",
    "    a = []\n",
    "\n",
    "    for i in actual:\n",
    "        a.append(idx_word.get(i, '< --- >'))\n",
    "\n",
    "    a = a[training_length:]\n",
    "\n",
    "    gen_list = [\n",
    "        gen[training_length:len(gen)] for gen in gen_list\n",
    "    ]\n",
    "    #gen[training_length:training_length + len(a)] for gen in gen_list\n",
    "    \n",
    "    if return_output:\n",
    "        return original_sequence, gen_list, a\n",
    "\n",
    "    # HTML formatting\n",
    "    seed_html = ''\n",
    "    seed_html = addContent(seed_html, header(\n",
    "        'Seed Sequence', color='darkblue'))\n",
    "    seed_html = addContent(seed_html,\n",
    "                           box(remove_spaces(' '.join(original_sequence))))\n",
    "\n",
    "    gen_html = ''\n",
    "    gen_html = addContent(gen_html, header('RNN Generated', color='darkred'))\n",
    "    gen_html = addContent(gen_html, box(remove_spaces(' '.join(gen_list[0]))))\n",
    "\n",
    "    a_html = ''\n",
    "    a_html = addContent(a_html, header('Actual', color='darkgreen'))\n",
    "    a_html = addContent(a_html, box(remove_spaces(' '.join(a))))\n",
    "\n",
    "    return seed_html, gen_html, a_html"
   ]
  },
  {
   "cell_type": "code",
   "execution_count": 67,
   "metadata": {},
   "outputs": [
    {
     "name": "stdout",
     "output_type": "stream",
     "text": [
      "There are 50227 unique words.\n",
      "42977\n",
      "大漠 沙 如 雪 ， 燕山 月 似 钩 。 何当 金 络 脑 ， 快 走 踏 清秋 。\n",
      "42977\n",
      "[5791, 361, 28, 89, 1, 5155, 16, 74, 1095, 2, 1800, 77, 2803, 5197, 1, 4283, 857, 1326, 2254, 2]\n"
     ]
    },
    {
     "data": {
      "text/html": [
       "<h1 style=\"color: darkblue;\"><center>Seed Sequence</center></h1><div style=\"border:1px inset black;padding:1em;font-size: 20px;\">大漠 沙 如 雪</div>"
      ],
      "text/plain": [
       "<IPython.core.display.HTML object>"
      ]
     },
     "execution_count": 67,
     "metadata": {},
     "output_type": "execute_result"
    },
    {
     "data": {
      "text/html": [
       "<h1 style=\"color: darkred;\"><center>RNN Generated</center></h1><div style=\"border:1px inset black;padding:1em;font-size: 20px;\">< --- > 春 水 桃 榜 去 否 泉 柳 迷 气 兰 沈 摇落 稀， 家山 不识 达 子 控 鱼种 栊 红 袜 肤</div>"
      ],
      "text/plain": [
       "<IPython.core.display.HTML object>"
      ]
     },
     "execution_count": 67,
     "metadata": {},
     "output_type": "execute_result"
    },
    {
     "data": {
      "text/html": [
       "<h1 style=\"color: darkgreen;\"><center>Actual</center></h1><div style=\"border:1px inset black;padding:1em;font-size: 20px;\">< --- >， 燕山 月 似 钩。 何当 金 络 脑， 快 走 踏 清秋。</div>"
      ],
      "text/plain": [
       "<IPython.core.display.HTML object>"
      ]
     },
     "execution_count": 67,
     "metadata": {},
     "output_type": "execute_result"
    }
   ],
   "source": [
    "prompt = '大漠沙如雪，燕山月似钩。何当金络脑，快走踏清秋。'\n",
    "seed_html, gen_html, a_html = generate_output(\n",
    "    model, sequences, prompt=prompt, texts=formatted, flag=1, training_length=4, new_words=25, diversity=1.25)\n",
    "HTML(seed_html)\n",
    "HTML(gen_html)\n",
    "HTML(a_html)"
   ]
  },
  {
   "cell_type": "code",
   "execution_count": 74,
   "metadata": {},
   "outputs": [
    {
     "name": "stdout",
     "output_type": "stream",
     "text": [
      "There are 50227 unique words.\n",
      "42983\n",
      "润色 鸿业 寄 贤才 ， 叨 居 右 弼 愧 盐 梅 。 运筹 运筹帷幄 帷幄 荷 时 来 ， 职掌 图籍 滥 蓬莱 。 两 司 谬 忝 谢 钟 裴 ， 礼乐 铨 管 效 涓埃 。 陈 师 振 旅 清 九 垓 ， 欣 承 顾问 侍 天 杯 。 衔 恩 献 寿 柏梁台 ， 黄 缣 青 简 奉 康 哉 。 鲰 生 侍从 忝 王 枚 ， 右 掖 司 言实 不 才 。 宗 伯 秩 礼 天地 开 ， 帝 歌 难 续 仰 昭 回 。 微臣 捧 日 变 寒 灰 ， 远 惭 班 左 愧 游 陪 。\n",
      "42983\n",
      "[13300, 12152, 232, 9710, 1, 2795, 324, 1965, 12153, 830, 2805, 619, 2, 11648, 21772, 10022, 681, 15, 9, 1, 21773, 13301, 3956, 1532, 2, 320, 1520, 2252, 1502, 314, 437, 938, 1, 3049, 11649, 743, 2502, 18130, 2, 556, 480, 1043, 904, 43, 447, 6206, 1, 1983, 529, 12154, 1046, 60, 577, 2, 685, 243, 684, 978, 16835, 1, 296, 4889, 121, 1368, 746, 1811, 864, 2, 21774, 44, 4702, 1502, 222, 4647, 1, 1965, 1907, 1520, 19724, 3, 206, 2, 1166, 1254, 2315, 570, 689, 73, 1, 333, 134, 92, 2443, 995, 1383, 90, 2, 4830, 1304, 18, 574, 38, 1247, 1, 45, 541, 1461, 1826, 830, 126, 895, 2]\n"
     ]
    },
    {
     "data": {
      "text/html": [
       "<h1 style=\"color: darkblue;\"><center>Seed Sequence</center></h1><div style=\"border:1px inset black;padding:1em;font-size: 20px;\">润色 鸿业 寄 贤才， 叨 居 右 弼 愧</div>"
      ],
      "text/plain": [
       "<IPython.core.display.HTML object>"
      ]
     },
     "execution_count": 74,
     "metadata": {},
     "output_type": "execute_result"
    },
    {
     "data": {
      "text/html": [
       "<h1 style=\"color: darkred;\"><center>RNN Generated</center></h1><div style=\"border:1px inset black;padding:1em;font-size: 20px;\">< --- >。 泪 里 城西 洗 长恨 客， 犹 忆 风流 同 奇。 苏门 今 何 房 道， 秀 泽 长 归 回。 朕 独 我 听， 亦 在 须 恩</div>"
      ],
      "text/plain": [
       "<IPython.core.display.HTML object>"
      ]
     },
     "execution_count": 74,
     "metadata": {},
     "output_type": "execute_result"
    },
    {
     "data": {
      "text/html": [
       "<h1 style=\"color: darkgreen;\"><center>Actual</center></h1><div style=\"border:1px inset black;padding:1em;font-size: 20px;\">< --- > 盐 梅。 运筹 运筹帷幄 帷幄 荷 时 来， 职掌 图籍 滥 蓬莱。 两 司 谬 忝 谢 钟 裴， 礼乐 铨 管 效 涓埃。 陈 师 振 旅 清 九</div>"
      ],
      "text/plain": [
       "<IPython.core.display.HTML object>"
      ]
     },
     "execution_count": 74,
     "metadata": {},
     "output_type": "execute_result"
    }
   ],
   "source": [
    "prompt = example0\n",
    "seed_html, gen_html, a_html = generate_output(\n",
    "    model, sequences, prompt=prompt, texts=formatted, flag=1, training_length=10, new_words=35, diversity=.75)\n",
    "HTML(seed_html)\n",
    "HTML(gen_html)\n",
    "HTML(a_html)"
   ]
  },
  {
   "cell_type": "code",
   "execution_count": 75,
   "metadata": {},
   "outputs": [
    {
     "name": "stdout",
     "output_type": "stream",
     "text": [
      "There are 50227 unique words.\n",
      "42984\n",
      "日暮 铜 雀 迥 ， 幽 声 玉 座 清 。 萧森 松柏 望 ， 委 郁 绮罗 情 。 君 恩 不再 重 ， 妾 舞 为 谁 轻 。\n",
      "42984\n",
      "[807, 1493, 1478, 765, 1, 176, 95, 50, 1319, 43, 2, 10845, 1985, 93, 1, 971, 1368, 2352, 169, 2, 8, 243, 5306, 109, 1, 617, 299, 10, 41, 144, 2]\n"
     ]
    },
    {
     "data": {
      "text/html": [
       "<h1 style=\"color: darkblue;\"><center>Seed Sequence</center></h1><div style=\"border:1px inset black;padding:1em;font-size: 20px;\">日暮 铜 雀 迥， 幽 声 玉 座 清</div>"
      ],
      "text/plain": [
       "<IPython.core.display.HTML object>"
      ]
     },
     "execution_count": 75,
     "metadata": {},
     "output_type": "execute_result"
    },
    {
     "data": {
      "text/html": [
       "<h1 style=\"color: darkred;\"><center>RNN Generated</center></h1><div style=\"border:1px inset black;padding:1em;font-size: 20px;\">< --- > 远山。 绕 珠 泰 云 罹， 彩 花 拂 榻 烟。 花 风 月 树 愁， 花 散 海 客 在。 几千年 至 夫子， 君 定 不 贼 荒。 重 有 更 将 疑， 别 积 坐 不 蛮。 海 音 看 胡 衰， 路 迟 已 自强。 望 颍川 环 承 巫峡， 残 公 去 应 空。 毕竟 心 将 在， 众 亲 明知 客。 知 借 可 东山 饮 状， 复 何 坐 禄 可， 政 中 焉 肆 蓬。</div>"
      ],
      "text/plain": [
       "<IPython.core.display.HTML object>"
      ]
     },
     "execution_count": 75,
     "metadata": {},
     "output_type": "execute_result"
    },
    {
     "data": {
      "text/html": [
       "<h1 style=\"color: darkgreen;\"><center>Actual</center></h1><div style=\"border:1px inset black;padding:1em;font-size: 20px;\">< --- >。 萧森 松柏 望， 委 郁 绮罗 情。 君 恩 不再 重， 妾 舞 为 谁 轻。</div>"
      ],
      "text/plain": [
       "<IPython.core.display.HTML object>"
      ]
     },
     "execution_count": 75,
     "metadata": {},
     "output_type": "execute_result"
    }
   ],
   "source": [
    "prompt = original_poems[1002]\n",
    "seed_html, gen_html, a_html = generate_output(\n",
    "    model, sequences, prompt=prompt, texts=formatted, flag=1, training_length=10, new_words=100, diversity=.75)\n",
    "HTML(seed_html)\n",
    "HTML(gen_html)\n",
    "HTML(a_html)"
   ]
  },
  {
   "cell_type": "code",
   "execution_count": 76,
   "metadata": {},
   "outputs": [
    {
     "name": "stdout",
     "output_type": "stream",
     "text": [
      "There are 50227 unique words.\n",
      "42985\n",
      "日暮 铜 雀 迥 ， 幽 声 玉 座 清 。 萧森 松柏 望 ， 委 郁 绮罗 情 。 君 恩 不再 重 ， 妾 舞 为 谁 轻 。\n",
      "42985\n",
      "[805, 1487, 1473, 764, 1, 176, 95, 50, 1317, 43, 2, 10466, 1980, 93, 1, 969, 1367, 2335, 168, 2, 8, 243, 5217, 109, 1, 616, 298, 10, 41, 144, 2]\n"
     ]
    },
    {
     "data": {
      "text/html": [
       "<h1 style=\"color: darkblue;\"><center>Seed Sequence</center></h1><div style=\"border:1px inset black;padding:1em;font-size: 20px;\">日暮 铜 雀 迥， 幽 声 玉 座 清</div>"
      ],
      "text/plain": [
       "<IPython.core.display.HTML object>"
      ]
     },
     "execution_count": 76,
     "metadata": {},
     "output_type": "execute_result"
    },
    {
     "data": {
      "text/html": [
       "<h1 style=\"color: darkred;\"><center>RNN Generated</center></h1><div style=\"border:1px inset black;padding:1em;font-size: 20px;\">< --- >。 翠 秋水 朝 夜夜 雁 去， 声 井 繁 烟 尘。 燕 云 在 未 云， 芳 女 移 边 霞。 不 作 未 得 如此， 我 闻 一 是 是 无。 无 如 此 君 得， 又 是 无 仙 辗。 不 向 换 日 愁， 花落 知 更 传 低。 莫 道 良 无 尔， 书 见 未 初 惊。 贵 欲 云母 色， 日 尽 尽 频 深。 君 言 贵 与 世， 火急 斜 且 辞。 蜀 珠 动</div>"
      ],
      "text/plain": [
       "<IPython.core.display.HTML object>"
      ]
     },
     "execution_count": 76,
     "metadata": {},
     "output_type": "execute_result"
    },
    {
     "data": {
      "text/html": [
       "<h1 style=\"color: darkgreen;\"><center>Actual</center></h1><div style=\"border:1px inset black;padding:1em;font-size: 20px;\">< --- >。 萧森 松柏 望， 委 郁 绮罗 情。 君 恩 不再 重， 妾 舞 为 谁 轻。</div>"
      ],
      "text/plain": [
       "<IPython.core.display.HTML object>"
      ]
     },
     "execution_count": 76,
     "metadata": {},
     "output_type": "execute_result"
    }
   ],
   "source": [
    "prompt = original_poems[1002]\n",
    "seed_html, gen_html, a_html = generate_output(\n",
    "    model, sequences, prompt=prompt, texts=formatted, flag=1, training_length=10, new_words=100, diversity=.5)\n",
    "HTML(seed_html)\n",
    "HTML(gen_html)\n",
    "HTML(a_html)"
   ]
  },
  {
   "cell_type": "code",
   "execution_count": 81,
   "metadata": {},
   "outputs": [
    {
     "name": "stdout",
     "output_type": "stream",
     "text": [
      "There are 50227 unique words.\n",
      "42990\n",
      "日暮 铜 雀 迥 ， 幽 声 玉 座 清 。 萧森 松柏 望 ， 委 郁 绮罗 情 。 君 恩 不再 重 ， 妾 舞 为 谁 轻 。\n",
      "42990\n",
      "[798, 1466, 1453, 757, 1, 176, 94, 47, 1299, 43, 2, 8904, 1940, 92, 1, 956, 1341, 2259, 168, 2, 8, 241, 4844, 109, 1, 612, 295, 10, 41, 144, 2]\n"
     ]
    },
    {
     "data": {
      "text/html": [
       "<h1 style=\"color: darkblue;\"><center>Seed Sequence</center></h1><div style=\"border:1px inset black;padding:1em;font-size: 20px;\">日暮 铜 雀 迥， 幽 声 玉 座 清</div>"
      ],
      "text/plain": [
       "<IPython.core.display.HTML object>"
      ]
     },
     "execution_count": 81,
     "metadata": {},
     "output_type": "execute_result"
    },
    {
     "data": {
      "text/html": [
       "<h1 style=\"color: darkred;\"><center>RNN Generated</center></h1><div style=\"border:1px inset black;padding:1em;font-size: 20px;\">< --- >。 天 引 长 舞 谁 别， 朱 灭 月 闭 日。 谁 问 为 之 出， 大 为 与 我 改。 百 有 君 在 多， 无 我 无 君 何。 将 知 终 与 殁， 自 时 两 君 贫。 一 我 随 我 为， 九 中 有 君 对。 晚 与 君 不 忆， 谁 有 身 如 心。 且 是 望 无 嗟， 只 在 身 有 所。 金 人 未 成 君， 谁 恐 无 所 穷。 富贵 何</div>"
      ],
      "text/plain": [
       "<IPython.core.display.HTML object>"
      ]
     },
     "execution_count": 81,
     "metadata": {},
     "output_type": "execute_result"
    },
    {
     "data": {
      "text/html": [
       "<h1 style=\"color: darkgreen;\"><center>Actual</center></h1><div style=\"border:1px inset black;padding:1em;font-size: 20px;\">< --- >。 萧森 松柏 望， 委 郁 绮罗 情。 君 恩 不再 重， 妾 舞 为 谁 轻。</div>"
      ],
      "text/plain": [
       "<IPython.core.display.HTML object>"
      ]
     },
     "execution_count": 81,
     "metadata": {},
     "output_type": "execute_result"
    }
   ],
   "source": [
    "prompt = original_poems[1002]\n",
    "seed_html, gen_html, a_html = generate_output(\n",
    "    model, sequences, prompt=prompt, texts=formatted, flag=1, training_length=10, new_words=100, diversity=.4)\n",
    "HTML(seed_html)\n",
    "HTML(gen_html)\n",
    "HTML(a_html)"
   ]
  },
  {
   "cell_type": "code",
   "execution_count": null,
   "metadata": {},
   "outputs": [],
   "source": []
  }
 ],
 "metadata": {
  "kernelspec": {
   "display_name": "Python 3",
   "language": "python",
   "name": "python3"
  },
  "language_info": {
   "codemirror_mode": {
    "name": "ipython",
    "version": 3
   },
   "file_extension": ".py",
   "mimetype": "text/x-python",
   "name": "python",
   "nbconvert_exporter": "python",
   "pygments_lexer": "ipython3",
   "version": "3.7.1"
  }
 },
 "nbformat": 4,
 "nbformat_minor": 2
}
